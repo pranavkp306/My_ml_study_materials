{
 "cells": [
  {
   "cell_type": "markdown",
   "id": "former-nowhere",
   "metadata": {},
   "source": [
    "# Seaborn\n",
    "seaborn is visualization library that sit on top of matplotlib. Making it nicer to look at and add some extrs capabilities\n"
   ]
  },
  {
   "cell_type": "code",
   "execution_count": 3,
   "id": "functional-constitution",
   "metadata": {},
   "outputs": [],
   "source": [
    "import pandas as pd\n",
    "import matplotlib.pyplot as plt\n",
    "%matplotlib inline"
   ]
  },
  {
   "cell_type": "code",
   "execution_count": 5,
   "id": "efficient-mills",
   "metadata": {},
   "outputs": [
    {
     "data": {
      "text/html": [
       "<div>\n",
       "<style scoped>\n",
       "    .dataframe tbody tr th:only-of-type {\n",
       "        vertical-align: middle;\n",
       "    }\n",
       "\n",
       "    .dataframe tbody tr th {\n",
       "        vertical-align: top;\n",
       "    }\n",
       "\n",
       "    .dataframe thead th {\n",
       "        text-align: right;\n",
       "    }\n",
       "</style>\n",
       "<table border=\"1\" class=\"dataframe\">\n",
       "  <thead>\n",
       "    <tr style=\"text-align: right;\">\n",
       "      <th></th>\n",
       "      <th>Mfr Name</th>\n",
       "      <th>Carline</th>\n",
       "      <th>Eng Displ</th>\n",
       "      <th>Cylinders</th>\n",
       "      <th>Transmission</th>\n",
       "      <th>CityMPG</th>\n",
       "      <th>HwyMPG</th>\n",
       "      <th>CombMPG</th>\n",
       "      <th># Gears</th>\n",
       "    </tr>\n",
       "  </thead>\n",
       "  <tbody>\n",
       "    <tr>\n",
       "      <th>0</th>\n",
       "      <td>aston martin</td>\n",
       "      <td>Vantage V8</td>\n",
       "      <td>4.0</td>\n",
       "      <td>8</td>\n",
       "      <td>Auto(S8)</td>\n",
       "      <td>18</td>\n",
       "      <td>25</td>\n",
       "      <td>21</td>\n",
       "      <td>8</td>\n",
       "    </tr>\n",
       "    <tr>\n",
       "      <th>1</th>\n",
       "      <td>Volkswagen Group of</td>\n",
       "      <td>Chiron</td>\n",
       "      <td>8.0</td>\n",
       "      <td>16</td>\n",
       "      <td>Auto(AM-S7)</td>\n",
       "      <td>9</td>\n",
       "      <td>14</td>\n",
       "      <td>11</td>\n",
       "      <td>7</td>\n",
       "    </tr>\n",
       "    <tr>\n",
       "      <th>2</th>\n",
       "      <td>General Motors</td>\n",
       "      <td>CORVETTE</td>\n",
       "      <td>6.2</td>\n",
       "      <td>8</td>\n",
       "      <td>Auto(S8)</td>\n",
       "      <td>12</td>\n",
       "      <td>20</td>\n",
       "      <td>15</td>\n",
       "      <td>8</td>\n",
       "    </tr>\n",
       "    <tr>\n",
       "      <th>3</th>\n",
       "      <td>General Motors</td>\n",
       "      <td>CORVETTE</td>\n",
       "      <td>6.2</td>\n",
       "      <td>8</td>\n",
       "      <td>Auto(S8)</td>\n",
       "      <td>15</td>\n",
       "      <td>25</td>\n",
       "      <td>18</td>\n",
       "      <td>8</td>\n",
       "    </tr>\n",
       "    <tr>\n",
       "      <th>4</th>\n",
       "      <td>General Motors</td>\n",
       "      <td>CORVETTE</td>\n",
       "      <td>6.2</td>\n",
       "      <td>8</td>\n",
       "      <td>Auto(S8)</td>\n",
       "      <td>14</td>\n",
       "      <td>23</td>\n",
       "      <td>17</td>\n",
       "      <td>8</td>\n",
       "    </tr>\n",
       "  </tbody>\n",
       "</table>\n",
       "</div>"
      ],
      "text/plain": [
       "              Mfr Name     Carline  Eng Displ  Cylinders Transmission  CityMPG  HwyMPG  CombMPG  # Gears\n",
       "0         aston martin  Vantage V8        4.0          8     Auto(S8)       18      25       21        8\n",
       "1  Volkswagen Group of      Chiron        8.0         16  Auto(AM-S7)        9      14       11        7\n",
       "2       General Motors    CORVETTE        6.2          8     Auto(S8)       12      20       15        8\n",
       "3       General Motors    CORVETTE        6.2          8     Auto(S8)       15      25       18        8\n",
       "4       General Motors    CORVETTE        6.2          8     Auto(S8)       14      23       17        8"
      ]
     },
     "execution_count": 5,
     "metadata": {},
     "output_type": "execute_result"
    }
   ],
   "source": [
    "df=pd.read_csv('FuelEfficiency.csv')\n",
    "df.head()"
   ]
  },
  {
   "cell_type": "code",
   "execution_count": 7,
   "id": "public-joyce",
   "metadata": {},
   "outputs": [
    {
     "data": {
      "text/plain": [
       "<AxesSubplot:>"
      ]
     },
     "execution_count": 7,
     "metadata": {},
     "output_type": "execute_result"
    },
    {
     "data": {
      "image/png": "[encoded data removed]",
      "text/plain": [
       "<Figure size 432x288 with 1 Axes>"
      ]
     },
     "metadata": {
      "needs_background": "light"
     },
     "output_type": "display_data"
    }
   ],
   "source": [
    "gear_count=df['# Gears'].value_counts()\n",
    "gear_count.plot(kind='bar')"
   ]
  },
  {
   "cell_type": "markdown",
   "id": "guided-scale",
   "metadata": {},
   "source": [
    "## Seaborn\n",
    "<font color='orange'>\n",
    "    We can load up Seaborn , and just call set() on it to change matplots default setting to something more visually pleasing"
   ]
  },
  {
   "cell_type": "code",
   "execution_count": 8,
   "id": "helpful-moderator",
   "metadata": {},
   "outputs": [],
   "source": [
    "import seaborn as sns\n",
    "sns.set() "
   ]
  },
  {
   "cell_type": "code",
   "execution_count": 9,
   "id": "banner-intelligence",
   "metadata": {},
   "outputs": [
    {
     "data": {
      "text/plain": [
       "<AxesSubplot:>"
      ]
     },
     "execution_count": 9,
     "metadata": {},
     "output_type": "execute_result"
    },
    {
     "data": {
      "image/png": "[encoded data removed]",
      "text/plain": [
       "<Figure size 432x288 with 1 Axes>"
      ]
     },
     "metadata": {},
     "output_type": "display_data"
    }
   ],
   "source": [
    "gear_count.plot(kind='bar')"
   ]
  },
  {
   "cell_type": "code",
   "execution_count": 10,
   "id": "neutral-heather",
   "metadata": {},
   "outputs": [
    {
     "data": {
      "text/html": [
       "<div>\n",
       "<style scoped>\n",
       "    .dataframe tbody tr th:only-of-type {\n",
       "        vertical-align: middle;\n",
       "    }\n",
       "\n",
       "    .dataframe tbody tr th {\n",
       "        vertical-align: top;\n",
       "    }\n",
       "\n",
       "    .dataframe thead th {\n",
       "        text-align: right;\n",
       "    }\n",
       "</style>\n",
       "<table border=\"1\" class=\"dataframe\">\n",
       "  <thead>\n",
       "    <tr style=\"text-align: right;\">\n",
       "      <th></th>\n",
       "      <th>Mfr Name</th>\n",
       "      <th>Carline</th>\n",
       "      <th>Eng Displ</th>\n",
       "      <th>Cylinders</th>\n",
       "      <th>Transmission</th>\n",
       "      <th>CityMPG</th>\n",
       "      <th>HwyMPG</th>\n",
       "      <th>CombMPG</th>\n",
       "      <th># Gears</th>\n",
       "    </tr>\n",
       "  </thead>\n",
       "  <tbody>\n",
       "    <tr>\n",
       "      <th>0</th>\n",
       "      <td>aston martin</td>\n",
       "      <td>Vantage V8</td>\n",
       "      <td>4.0</td>\n",
       "      <td>8</td>\n",
       "      <td>Auto(S8)</td>\n",
       "      <td>18</td>\n",
       "      <td>25</td>\n",
       "      <td>21</td>\n",
       "      <td>8</td>\n",
       "    </tr>\n",
       "    <tr>\n",
       "      <th>1</th>\n",
       "      <td>Volkswagen Group of</td>\n",
       "      <td>Chiron</td>\n",
       "      <td>8.0</td>\n",
       "      <td>16</td>\n",
       "      <td>Auto(AM-S7)</td>\n",
       "      <td>9</td>\n",
       "      <td>14</td>\n",
       "      <td>11</td>\n",
       "      <td>7</td>\n",
       "    </tr>\n",
       "    <tr>\n",
       "      <th>2</th>\n",
       "      <td>General Motors</td>\n",
       "      <td>CORVETTE</td>\n",
       "      <td>6.2</td>\n",
       "      <td>8</td>\n",
       "      <td>Auto(S8)</td>\n",
       "      <td>12</td>\n",
       "      <td>20</td>\n",
       "      <td>15</td>\n",
       "      <td>8</td>\n",
       "    </tr>\n",
       "    <tr>\n",
       "      <th>3</th>\n",
       "      <td>General Motors</td>\n",
       "      <td>CORVETTE</td>\n",
       "      <td>6.2</td>\n",
       "      <td>8</td>\n",
       "      <td>Auto(S8)</td>\n",
       "      <td>15</td>\n",
       "      <td>25</td>\n",
       "      <td>18</td>\n",
       "      <td>8</td>\n",
       "    </tr>\n",
       "    <tr>\n",
       "      <th>4</th>\n",
       "      <td>General Motors</td>\n",
       "      <td>CORVETTE</td>\n",
       "      <td>6.2</td>\n",
       "      <td>8</td>\n",
       "      <td>Auto(S8)</td>\n",
       "      <td>14</td>\n",
       "      <td>23</td>\n",
       "      <td>17</td>\n",
       "      <td>8</td>\n",
       "    </tr>\n",
       "  </tbody>\n",
       "</table>\n",
       "</div>"
      ],
      "text/plain": [
       "              Mfr Name     Carline  Eng Displ  Cylinders Transmission  CityMPG  HwyMPG  CombMPG  # Gears\n",
       "0         aston martin  Vantage V8        4.0          8     Auto(S8)       18      25       21        8\n",
       "1  Volkswagen Group of      Chiron        8.0         16  Auto(AM-S7)        9      14       11        7\n",
       "2       General Motors    CORVETTE        6.2          8     Auto(S8)       12      20       15        8\n",
       "3       General Motors    CORVETTE        6.2          8     Auto(S8)       15      25       18        8\n",
       "4       General Motors    CORVETTE        6.2          8     Auto(S8)       14      23       17        8"
      ]
     },
     "execution_count": 10,
     "metadata": {},
     "output_type": "execute_result"
    }
   ],
   "source": [
    "df.head()"
   ]
  },
  {
   "cell_type": "code",
   "execution_count": 11,
   "id": "short-queue",
   "metadata": {},
   "outputs": [
    {
     "name": "stderr",
     "output_type": "stream",
     "text": [
      "C:\\Users\\Prana\\anaconda3\\lib\\site-packages\\seaborn\\distributions.py:2557: FutureWarning: `distplot` is a deprecated function and will be removed in a future version. Please adapt your code to use either `displot` (a figure-level function with similar flexibility) or `histplot` (an axes-level function for histograms).\n",
      "  warnings.warn(msg, FutureWarning)\n"
     ]
    },
    {
     "data": {
      "text/plain": [
       "<AxesSubplot:xlabel='CombMPG', ylabel='Density'>"
      ]
     },
     "execution_count": 11,
     "metadata": {},
     "output_type": "execute_result"
    },
    {
     "data": {
      "image/png": "[encoded data removed]",
      "text/plain": [
       "<Figure size 432x288 with 1 Axes>"
      ]
     },
     "metadata": {},
     "output_type": "display_data"
    }
   ],
   "source": [
    "sns.distplot(df['CombMPG'])"
   ]
  },
  {
   "cell_type": "code",
   "execution_count": null,
   "id": "incident-prompt",
   "metadata": {},
   "outputs": [],
   "source": []
  }
 ],
 "metadata": {
  "kernelspec": {
   "display_name": "Python 3",
   "language": "python",
   "name": "python3"
  },
  "language_info": {
   "codemirror_mode": {
    "name": "ipython",
    "version": 3
   },
   "file_extension": ".py",
   "mimetype": "text/x-python",
   "name": "python",
   "nbconvert_exporter": "python",
   "pygments_lexer": "ipython3",
   "version": "3.8.5"
  }
 },
 "nbformat": 4,
 "nbformat_minor": 5
}
