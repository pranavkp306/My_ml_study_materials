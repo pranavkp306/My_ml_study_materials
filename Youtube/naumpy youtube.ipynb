{
 "cells": [
  {
   "cell_type": "code",
   "execution_count": 1,
   "metadata": {},
   "outputs": [
    {
     "name": "stdout",
     "output_type": "stream",
     "text": [
      "1.19.2\n"
     ]
    }
   ],
   "source": [
    "import numpy as np\n",
    "print(np.__version__)"
   ]
  },
  {
   "cell_type": "code",
   "execution_count": 2,
   "metadata": {},
   "outputs": [
    {
     "name": "stdout",
     "output_type": "stream",
     "text": [
      "1.1.5\n"
     ]
    }
   ],
   "source": [
    "import pandas as pd\n",
    "print(pd.__version__)"
   ]
  },
  {
   "cell_type": "markdown",
   "metadata": {},
   "source": [
    "# 1.Central object is the array"
   ]
  },
  {
   "cell_type": "code",
   "execution_count": 3,
   "metadata": {},
   "outputs": [
    {
     "data": {
      "text/plain": [
       "4"
      ]
     },
     "execution_count": 3,
     "metadata": {},
     "output_type": "execute_result"
    }
   ],
   "source": [
    "a = np.array([1,2,3,4,5])\n",
    "a # [1 2 3 4 5]\n",
    "a.shape # shape of the array: (5,)\n",
    "a.dtype # type of the elements: int32\n",
    "a.ndim # number of dimensions: 1\n",
    "a.size # total number of elements: 5\n",
    "a.itemsize # the size in bytes of each element: 4"
   ]
  },
  {
   "cell_type": "markdown",
   "metadata": {},
   "source": [
    "# 2.Essential methods"
   ]
  },
  {
   "cell_type": "code",
   "execution_count": 4,
   "metadata": {},
   "outputs": [
    {
     "name": "stdout",
     "output_type": "stream",
     "text": [
      "1\n",
      "[5 2 3]\n",
      "[10  0  6]\n",
      "10\n"
     ]
    }
   ],
   "source": [
    "a = np.array([1,2,3])\n",
    "# access and change elements\n",
    "print(a[0]) # 1\n",
    "a[0] = 5\n",
    "print(a) # [5 2 3]\n",
    "\n",
    "# elementwise math operations\n",
    "b = a * np.array([2,0,2])\n",
    "print(b) # [10  0  6]\n",
    "\n",
    "print(a.sum()) # 10"
   ]
  },
  {
   "cell_type": "markdown",
   "metadata": {},
   "source": [
    "# 3. Array vs List"
   ]
  },
  {
   "cell_type": "code",
   "execution_count": 5,
   "metadata": {},
   "outputs": [
    {
     "name": "stdout",
     "output_type": "stream",
     "text": [
      "[1, 2, 3]\n",
      "[1 2 3]\n",
      "[1, 2, 3, 4, 5]\n",
      "[5 6 7]\n",
      "[5 6 7]\n",
      "[1, 2, 3, 4, 1, 2, 3, 4]\n",
      "[2 4 6]\n",
      "[1, 4, 9, 16]\n",
      "[1, 4, 9, 16]\n",
      "[1 4 9]\n",
      "[1.         1.41421356 1.73205081]\n",
      "[0.         0.69314718 1.09861229]\n"
     ]
    }
   ],
   "source": [
    "l = [1,2,3]\n",
    "a = np.array([1,2,3]) # create an array from a list\n",
    "print(l) # [1, 2, 3]\n",
    "print(a) # [1 2 3]\n",
    "\n",
    "# adding new item\n",
    "l.append(4)\n",
    "#a.append(4) error: size of array is fixed\n",
    "\n",
    "# there are ways to add items, but this essentially creates new arrays\n",
    "l2 = l + [5]\n",
    "print(l2) # [1, 2, 3, 4, 5]\n",
    "\n",
    "a2 = a + np.array([4])\n",
    "print(a2) # this is called broadcasting, adds 4 to each element\n",
    "# -> [5 6 7]\n",
    "\n",
    "# vector addidion (this is technically correct compared to broadcasting)\n",
    "a3 = a + np.array([4,4,4])\n",
    "print(a3) # [5 6 7]\n",
    "\n",
    "#a3 = a + np.array([4,5]) # error, can't add vectors of different sizes\n",
    "\n",
    "# multiplication\n",
    "l2 = 2 * l # list l repeated 2 times, same a l+l\n",
    "print(l2) \n",
    "# -> [1, 2, 3, 4, 1, 2, 3, 4]\n",
    "\n",
    "a3 = 2 * a # multiplication for each element\n",
    "print(a3) \n",
    "# -> [2 4 6]\n",
    "\n",
    "# modify each item in the list\n",
    "l2 = []\n",
    "for i in l:\n",
    "    l2.append(i**2)\n",
    "print(l2) # [1, 4, 9, 16]\n",
    "\n",
    "# or list comprehension\n",
    "l2 = [i**2 for i in l]\n",
    "print(l2) # [1, 4, 9, 16]\n",
    "\n",
    "a2 = a**2 # -> squares each element!\n",
    "print(a2) # [1 4 9]\n",
    "\n",
    "# Note: function applied to array usually operates element wise\n",
    "a2 = np.sqrt(a) # np.exp(a), np.tanh(a)\n",
    "print(a2) # [1. 1.41421356 1.73205081]\n",
    "a2 = np.log(a)\n",
    "print(a2) # [0. 0.69314718 1.09861229]"
   ]
  },
  {
   "cell_type": "markdown",
   "metadata": {},
   "source": [
    "# 4. Dot Product"
   ]
  },
  {
   "cell_type": "code",
   "execution_count": 6,
   "metadata": {},
   "outputs": [
    {
     "name": "stdout",
     "output_type": "stream",
     "text": [
      "11\n",
      "11\n",
      "[3 8]\n",
      "11\n",
      "11\n",
      "11\n",
      "11\n"
     ]
    }
   ],
   "source": [
    "a = np.array([1,2])\n",
    "b = np.array([3,4])\n",
    "\n",
    "# sum of the products of the corresponding entries \n",
    "# multiply each corresponding elements and then take the sum\n",
    "\n",
    "# cumbersome way for lists\n",
    "dot = 0\n",
    "for i in range(len(a)):\n",
    "    dot += a[i] * b[i]\n",
    "print(dot) # 11\n",
    "\n",
    "# easy with numpy :)\n",
    "dot = np.dot(a,b)\n",
    "print(dot) # 11\n",
    "\n",
    "# step by step manually\n",
    "c = a * b\n",
    "print(c) # [3 8]\n",
    "d = np.sum(c)\n",
    "print(d) # 11\n",
    "\n",
    "# most of these functions are also instance methods\n",
    "dot = a.dot(b)\n",
    "print(dot) # 11\n",
    "dot = (a*b).sum()\n",
    "print(dot) # 11\n",
    "\n",
    "# in newer versions\n",
    "dot = a @ b\n",
    "print(dot) # 11"
   ]
  },
  {
   "cell_type": "markdown",
   "metadata": {},
   "source": [
    "# 5. Speed Test array vs list"
   ]
  },
  {
   "cell_type": "code",
   "execution_count": 7,
   "metadata": {},
   "outputs": [
    {
     "name": "stdout",
     "output_type": "stream",
     "text": [
      "Time with lists: 0.8122902000000001\n",
      "Time with array: 0.005159400000000147\n",
      "Ratio 157.43888824281444\n"
     ]
    }
   ],
   "source": [
    "from timeit import default_timer as timer\n",
    "\n",
    "a = np.random.randn(1000)\n",
    "b = np.random.randn(1000)\n",
    "\n",
    "A = list(a)\n",
    "B = list(b)\n",
    "\n",
    "T = 1000\n",
    "\n",
    "def dot1():\n",
    "    dot = 0\n",
    "    for i in range(len(A)):\n",
    "        dot += A[i]*B[i]\n",
    "    return dot\n",
    "\n",
    "def dot2():\n",
    "    return np.dot(a,b)\n",
    "\n",
    "start = timer()\n",
    "for t in range(T):\n",
    "    dot1()\n",
    "end = timer()\n",
    "t1 = end-start\n",
    "\n",
    "start = timer()\n",
    "for t in range(T):\n",
    "    dot2()\n",
    "end = timer()\n",
    "t2 = end-start\n",
    "\n",
    "print('Time with lists:', t1) # -> 0.19371\n",
    "print('Time with array:', t2) # -> 0.00112\n",
    "print('Ratio', t1/t2)         # -> 172.332 times faster"
   ]
  },
  {
   "cell_type": "markdown",
   "metadata": {},
   "source": [
    "# 6. Multidimensional (nd) arrays"
   ]
  },
  {
   "cell_type": "code",
   "execution_count": 8,
   "metadata": {},
   "outputs": [
    {
     "name": "stdout",
     "output_type": "stream",
     "text": [
      "[[1 2]\n",
      " [3 4]]\n",
      "(2, 2)\n",
      "[1 2]\n",
      "1\n",
      "1\n",
      "[1 3]\n",
      "[1 2]\n",
      "[1 4]\n",
      "[[1 0]\n",
      " [0 4]]\n"
     ]
    }
   ],
   "source": [
    "# (matrix class exists but not recommended to use)\n",
    "a = np.array([[1,2], [3,4]])\n",
    "print(a)\n",
    "# [[1 2]\n",
    "#  [3 4]]\n",
    "\n",
    "print(a.shape) # (2, 2)\n",
    "\n",
    "# Access elements\n",
    "# row first, then columns\n",
    "print(a[0]) # [1 2]\n",
    "print(a[0][0]) # 1\n",
    "# or\n",
    "print(a[0,0]) # 1\n",
    "\n",
    "# slicing\n",
    "print(a[:,0]) # all rows in col 0:    [1 3]\n",
    "print(a[0,:]) # all columns in row 0: [1 2]\n",
    "\n",
    "# transpose\n",
    "a.T\n",
    "\n",
    "# matrix multiplication\n",
    "b = np.array([[3, 4], [5,6]])\n",
    "c = a.dot(b)\n",
    "\n",
    "d = a * b # elementwise multiplication\n",
    "\n",
    "# inner dimensions must match!\n",
    "#b = np.array([[1,2,3], [4,5,6]])\n",
    "#c = a.dot(b.T)\n",
    "\n",
    "# determinant\n",
    "c = np.linalg.det(a)\n",
    "\n",
    "# inverse\n",
    "c = np.linalg.inv(a)\n",
    "\n",
    "# diag\n",
    "c = np.diag(a)\n",
    "print(c) # [1 4]\n",
    "\n",
    "# diag on a vector returns diagonal matrix (overloaded function)\n",
    "c = np.diag([1,4])\n",
    "print(c)\n",
    "# [[1 0]\n",
    "#  [0 4]]"
   ]
  },
  {
   "cell_type": "markdown",
   "metadata": {},
   "source": [
    "# 7. Indexing/Slicing/Boolean Indexing"
   ]
  },
  {
   "cell_type": "code",
   "execution_count": 9,
   "metadata": {},
   "outputs": [
    {
     "name": "stdout",
     "output_type": "stream",
     "text": [
      "[[ 1  2  3  4]\n",
      " [ 5  6  7  8]\n",
      " [ 9 10 11 12]]\n",
      "2\n",
      "[1 2 3 4]\n",
      "[1 5 9]\n",
      "[[2 3]\n",
      " [6 7]]\n",
      "12\n",
      "[[1 2]\n",
      " [3 4]\n",
      " [5 6]]\n",
      "[[False False]\n",
      " [ True  True]\n",
      " [ True  True]]\n",
      "[3 4 5 6]\n",
      "[3 4 5 6]\n",
      "[[-1 -1]\n",
      " [ 3  4]\n",
      " [ 5  6]]\n",
      "[19 41 61]\n",
      "[0 2 4]\n",
      "[10 30 50]\n"
     ]
    }
   ],
   "source": [
    "#Indexing and Slicing\n",
    "# Slicing: Similar to Python lists, numpy arrays can be sliced.\n",
    "# Since arrays may be multidimensional, you must specify a slice for each \n",
    "# dimension of the array:\n",
    "a = np.array([[1,2,3,4], [5,6,7,8], [9,10,11,12]])\n",
    "print(a)\n",
    "# [[ 1  2  3  4]\n",
    "#  [ 5  6  7  8]\n",
    "#  [ 9 10 11 12]]\n",
    "\n",
    "# Integer array indexing\n",
    "b = a[0,1]\n",
    "print(b) # 2\n",
    "\n",
    "# Slicing\n",
    "row0 = a[0,:]\n",
    "print(row0) # [1 2 3 4]\n",
    "\n",
    "col0 = a[:, 0]\n",
    "print(col0) # [1 5 9]\n",
    "\n",
    "slice_a = a[0:2,1:3]\n",
    "print(slice_a)\n",
    "# [[2 3]\n",
    "#  [6 7]]\n",
    "\n",
    "# indexing starting from the end: -1, -2 etc...\n",
    "last = a[-1,-1]\n",
    "print(last) # 12\n",
    "\n",
    "# Boolean indexing:\n",
    "a = np.array([[1,2], [3, 4], [5, 6]])\n",
    "print(a)\n",
    "# [[1 2]\n",
    "#  [3 4]\n",
    "#  [5 6]]\n",
    "\n",
    "# same shape with True or False for the condition\n",
    "bool_idx = a > 2\n",
    "print(bool_idx)\n",
    "#  [[False False]\n",
    "#   [ True  True]\n",
    "#   [ True  True]]\n",
    "\n",
    "# note: this will be a rank 1 array!\n",
    "print(a[bool_idx]) # [3 4 5 6]\n",
    "\n",
    "# We can do all of the above in a single concise statement:\n",
    "print(a[a > 2]) # [3 4 5 6]\n",
    "\n",
    "# np.where(): same size with modified values\n",
    "b = np.where(a>2, a, -1)\n",
    "print(b)\n",
    "# [[-1 -1]\n",
    "#  [ 3  4]\n",
    "#  [ 5  6]]\n",
    "\n",
    "# fancy indexing: access multiple indices at once\n",
    "a = np.array([10,19,30,41,50,61])\n",
    "\n",
    "b = a[[1,3,5]]\n",
    "print(b) # [19 41 61]\n",
    "\n",
    "# compute indices where condition is True\n",
    "even = np.argwhere(a%2==0).flatten()\n",
    "print(even) # [0 2 4]\n",
    "\n",
    "a_even = a[even]\n",
    "print(a_even) # [10 30 50]"
   ]
  },
  {
   "cell_type": "markdown",
   "metadata": {},
   "source": [
    "# 8. Reshaping"
   ]
  },
  {
   "cell_type": "code",
   "execution_count": 10,
   "metadata": {},
   "outputs": [
    {
     "name": "stdout",
     "output_type": "stream",
     "text": [
      "[1 2 3 4 5 6]\n",
      "[[1 2 3]\n",
      " [4 5 6]]\n",
      "[[1 2]\n",
      " [3 4]\n",
      " [5 6]]\n",
      "(6,)\n",
      "[[1 2 3 4 5 6]]\n",
      "(1, 6)\n",
      "[[1]\n",
      " [2]\n",
      " [3]\n",
      " [4]\n",
      " [5]\n",
      " [6]]\n",
      "(6, 1)\n"
     ]
    }
   ],
   "source": [
    "a = np.arange(1, 7)\n",
    "print(a) # [1 2 3 4 5 6]\n",
    "\n",
    "b = a.reshape((2, 3)) # error if shape cannot be used\n",
    "print(b)\n",
    "# [[1 2 3]\n",
    "#  [4 5 6]]\n",
    "\n",
    "c = a.reshape((3, 2)) # 3 rows, 2 columns\n",
    "print(c)\n",
    "# [[1 2]\n",
    "#  [3 4]\n",
    "#  [5 6]]\n",
    "\n",
    "# newaxis is used to create a new axis in the data\n",
    "# needed when model require the data to be shaped in a certain manner\n",
    "print(a.shape) # (6,)\n",
    "\n",
    "d = a[np.newaxis, :]\n",
    "print(d) # [[1 2 3 4 5 6]]\n",
    "print(d.shape) # (1, 6)\n",
    "\n",
    "e = a[:, np.newaxis]\n",
    "print(e)\n",
    "# [[1]\n",
    "#  [2]\n",
    "#  [3]\n",
    "#  [4]\n",
    "#  [5]\n",
    "#  [6]]\n",
    "print(e.shape) # (6, 1)"
   ]
  },
  {
   "cell_type": "markdown",
   "metadata": {},
   "source": [
    "# 9. Concatenation"
   ]
  },
  {
   "cell_type": "code",
   "execution_count": 11,
   "metadata": {},
   "outputs": [
    {
     "name": "stdout",
     "output_type": "stream",
     "text": [
      "[1 2 3 4 5 6]\n",
      "[[1 2]\n",
      " [3 4]\n",
      " [5 6]]\n",
      "[[1 2 5]\n",
      " [3 4 6]]\n",
      "[1 2 3 4 5 6 7 8]\n",
      "[[1 2 5 6]\n",
      " [3 4 7 8]]\n",
      "[[1 2 3 4]\n",
      " [5 6 7 8]]\n",
      "[[1 2]\n",
      " [3 4]\n",
      " [5 6]\n",
      " [7 8]]\n"
     ]
    }
   ],
   "source": [
    "a = np.array([[1, 2], [3, 4]])\n",
    "\n",
    "b = np.array([[5, 6]])\n",
    "\n",
    "# combine into 1d\n",
    "c = np.concatenate((a, b), axis=None)\n",
    "print(c) # [1 2 3 4 5 6]\n",
    "\n",
    "# add new row\n",
    "d = np.concatenate((a, b), axis=0)\n",
    "print(d)\n",
    "# [[1 2]\n",
    "#  [3 4]\n",
    "#  [5 6]]\n",
    "\n",
    "# add new column: note that we have to transpose b!\n",
    "e = np.concatenate((a, b.T), axis=1)\n",
    "print(e)\n",
    "# [[1 2 5]\n",
    "#  [3 4 6]]\n",
    "\n",
    "# hstack: Stack arrays in sequence horizontally (column wise). needs a tuple\n",
    "a = np.array([1,2,3,4])\n",
    "b = np.array([5,6,7,8])\n",
    "c = np.hstack((a,b))\n",
    "print(c) # [1 2 3 4 5 6 7 8]\n",
    "\n",
    "a = np.array([[1,2], [3,4]])\n",
    "b = np.array([[5,6], [7,8]])\n",
    "c = np.hstack((a,b))\n",
    "print(c)\n",
    "# [[1 2 5 6]\n",
    "#  [3 4 7 8]]\n",
    "\n",
    "# vstack: Stack arrays in sequence vertically (row wise). needs a tuple\n",
    "a = np.array([1,2,3,4])\n",
    "b = np.array([5,6,7,8])\n",
    "c = np.vstack((a,b))\n",
    "print(c)\n",
    "# [[1 2 3 4]\n",
    "#  [5 6 7 8]]\n",
    "\n",
    "a = np.array([[1,2], [3,4]])\n",
    "b = np.array([[5,6], [7,8]])\n",
    "c = np.vstack((a,b))\n",
    "print(c)\n",
    "# [[1 2]\n",
    "#  [3 4]\n",
    "#  [5 6]\n",
    "#  [7 8]]"
   ]
  },
  {
   "cell_type": "markdown",
   "metadata": {},
   "source": [
    "# 10. Broadcasting\n",
    "Broadcasting is a powerful mechanism that allows numpy to work with arrays of different shapes when performing arithmetic operations. Frequently we have a smaller array and a larger array, and we want to use the smaller array multiple times to perform some operation on the larger array."
   ]
  },
  {
   "cell_type": "code",
   "execution_count": 12,
   "metadata": {},
   "outputs": [
    {
     "name": "stdout",
     "output_type": "stream",
     "text": [
      "[[ 2  2  4]\n",
      " [ 5  5  7]\n",
      " [ 8  8 10]\n",
      " [11 11 13]]\n"
     ]
    }
   ],
   "source": [
    "x = np.array([[1,2,3], [4,5,6], [7,8,9], [10, 11, 12]])\n",
    "y = np.array([1, 0, 1])\n",
    "z = x + y  # Add v to each row of x using broadcasting\n",
    "print(z) \n",
    "# [[ 2  2  4]\n",
    "#  [ 5  5  7]\n",
    "#  [ 8  8 10]\n",
    "#  [11 11 13]]"
   ]
  },
  {
   "cell_type": "markdown",
   "metadata": {},
   "source": [
    "# 11. Functions and Axis"
   ]
  },
  {
   "cell_type": "code",
   "execution_count": 13,
   "metadata": {},
   "outputs": [
    {
     "name": "stdout",
     "output_type": "stream",
     "text": [
      "210\n",
      "210\n",
      "[24 26 28 30 32 34 36]\n",
      "[ 70 140]\n",
      "15.0\n",
      "15.0\n",
      "[12. 13. 14. 15. 16. 17. 18.]\n",
      "[10. 20.]\n"
     ]
    }
   ],
   "source": [
    "a = np.array([[7,8,9,10,11,12,13], [17,18,19,20,21,22,23]])\n",
    "\n",
    "print(a.sum())          # default=None-> 210\n",
    "print(a.sum(axis=None)) # overall sum -> 210\n",
    "\n",
    "print(a.sum(axis=0)) # along the rows -> 1 sum entry for each column\n",
    "# -> [24 26 28 30 32 34 36]\n",
    "\n",
    "print(a.sum(axis=1)) # along the columns -> 1 sum entry for each row\n",
    "# -> [ 70 140]\n",
    "\n",
    "\n",
    "print(a.mean())          # default=None-> 15.0\n",
    "print(a.mean(axis=None)) # overall mean -> 15.0\n",
    "\n",
    "print(a.mean(axis=0)) # along the rows -> 1 mean entry for each column\n",
    "# -> [12. 13. 14. 15. 16. 17. 18.]\n",
    "\n",
    "print(a.mean(axis=1)) # along the columns -> 1 mean entry for each row\n",
    "# -> [10. 20.]\n",
    "\n",
    "# some more: std, var, min, max"
   ]
  },
  {
   "cell_type": "markdown",
   "metadata": {},
   "source": [
    "# 12. Datatypes"
   ]
  },
  {
   "cell_type": "code",
   "execution_count": 14,
   "metadata": {},
   "outputs": [
    {
     "name": "stdout",
     "output_type": "stream",
     "text": [
      "int32\n",
      "float64\n",
      "int64\n",
      "float32\n"
     ]
    }
   ],
   "source": [
    "#Overview of all datatypes\n",
    "\n",
    "# Let numpy choose the datatype\n",
    "x = np.array([1, 2])\n",
    "print(x.dtype) # int32\n",
    "\n",
    "# Let numpy choose the datatype\n",
    "x = np.array([1.0, 2.0])\n",
    "print(x.dtype) # float64\n",
    "\n",
    "# Force a particular datatype, how many bits (how precise)\n",
    "x = np.array([1, 2], dtype=np.int64) # 8 bytes\n",
    "print(x.dtype) # int64\n",
    "\n",
    "x = np.array([1, 2], dtype=np.float32) # 4 bytes\n",
    "print(x.dtype) # float32"
   ]
  },
  {
   "cell_type": "markdown",
   "metadata": {},
   "source": [
    "# 13. Copying"
   ]
  },
  {
   "cell_type": "code",
   "execution_count": 15,
   "metadata": {},
   "outputs": [
    {
     "name": "stdout",
     "output_type": "stream",
     "text": [
      "[42  2  3]\n",
      "[1 2 3]\n"
     ]
    }
   ],
   "source": [
    "a = np.array([1,2,3])\n",
    "b = a # only copies reference!\n",
    "b[0] = 42\n",
    "print(a) # [42 2 3]\n",
    "\n",
    "a = np.array([1,2,3])\n",
    "b = a.copy() # actual copy!\n",
    "b[0] = 42\n",
    "print(a) # [1 2 3]"
   ]
  },
  {
   "cell_type": "markdown",
   "metadata": {},
   "source": [
    "# 14. Generating arrays"
   ]
  },
  {
   "cell_type": "code",
   "execution_count": 16,
   "metadata": {},
   "outputs": [],
   "source": [
    "# zeros\n",
    "a = np.zeros((2,3)) # size as tuple\n",
    "# [[0. 0. 0.]\n",
    "#  [0. 0. 0.]]\n",
    "\n",
    "# ones\n",
    "b = np.ones((2,3))\n",
    "# [[1. 1. 1.]\n",
    "#  [1. 1. 1.]]\n",
    "\n",
    "# specific value\n",
    "c = np.full((3,3),5.0)\n",
    "# [[5. 5. 5.]\n",
    "#  [5. 5. 5.]\n",
    "#  [5. 5. 5.]]\n",
    "\n",
    "# identity\n",
    "d = np.eye(3) #3x3\n",
    "# [[1. 0. 0.]\n",
    "#  [0. 1. 0.]\n",
    "#  [0. 0. 1.]]\n",
    "\n",
    "# arange\n",
    "e = np.arange(10)\n",
    "# [0 1 2 3 4 5 6 7 8 9]\n",
    "\n",
    "# linspace\n",
    "f = np.linspace(0, 10, 5)\n",
    "# [ 0.  2.5  5.  7.5  10. ]"
   ]
  },
  {
   "cell_type": "markdown",
   "metadata": {},
   "source": [
    "# 15. Random numbers"
   ]
  },
  {
   "cell_type": "code",
   "execution_count": 17,
   "metadata": {},
   "outputs": [
    {
     "name": "stdout",
     "output_type": "stream",
     "text": [
      "-0.001234803585919349 1.0377351495448386 1.0186928632050185\n",
      "0.07339417726296113\n",
      "[[5 5 6]\n",
      " [4 6 9]\n",
      " [6 9 9]]\n"
     ]
    }
   ],
   "source": [
    "a = np.random.random((3,2)) # uniform 0-1 distribution\n",
    "# [[0.06121857 0.10180167]\n",
    "#  [0.83321726 0.54906613]\n",
    "#  [0.94170273 0.19447411]]\n",
    "\n",
    "b = np.random.randn(3,2) # normal/Gaussian distribution, mean 0 and unit variance\n",
    "# no tuple as shape here! each dimension one argument\n",
    "# [[ 0.56759123 -0.65068333]\n",
    "#  [ 0.83445762 -0.36436185]\n",
    "#  [ 1.27150812 -0.32906051]]\n",
    "\n",
    "c = np.random.randn(10000)\n",
    "print(c.mean(), c.var(), c.std())\n",
    "# -0.0014 0.9933 0.9966\n",
    "\n",
    "d = np.random.randn(10, 3)\n",
    "print(d.mean()) # mean of whole array: -0.1076827228882305\n",
    "\n",
    "# random integer, low,high,size; high is exclusive\n",
    "e = np.random.randint(3,10,size=(3,3)) # if we only pass one parameter, then from 0-x\n",
    "print(e)\n",
    "# [[6 8 4]\n",
    "#  [3 6 3]\n",
    "#  [4 7 8]]\n",
    "\n",
    "# with integer is between 0 up to integer exclusive\n",
    "f = np.random.choice(7, size=10)\n",
    "# [2 0 4 5 1 3 4 0 0 6]\n",
    "\n",
    "# with an array it draws random values from this array\n",
    "g = np.random.choice([1,2,3,4], size=8)\n",
    "# [4 2 1 3 4 1 4 1]"
   ]
  },
  {
   "cell_type": "markdown",
   "metadata": {},
   "source": [
    "# 16. Linear Algebra (Eigenvalues / Solving Linear Systems)"
   ]
  },
  {
   "cell_type": "code",
   "execution_count": 20,
   "metadata": {},
   "outputs": [
    {
     "name": "stdout",
     "output_type": "stream",
     "text": [
      "[-0.37228132  5.37228132]\n",
      "[[-0.82456484 -0.41597356]\n",
      " [ 0.56576746 -0.90937671]]\n",
      "[-0.82456484  0.56576746]\n",
      "[ 0.30697009 -0.21062466] [ 0.30697009 -0.21062466]\n",
      "[ True False]\n",
      "True\n",
      "[1500.  700.]\n",
      "[1500.  700.]\n"
     ]
    }
   ],
   "source": [
    "#Eigenvalues\n",
    "a = np.array([[1,2], [3,4]])\n",
    "eigenvalues, eigenvectors = np.linalg.eig(a)\n",
    "# Note: use eigh if your matrix is symmetric (faster)\n",
    "\n",
    "print(eigenvalues)\n",
    " #  [-0.37228132  5.37228132]\n",
    "\n",
    "print(eigenvectors) # column vectors\n",
    "# [[-0.82456484 -0.41597356]\n",
    "#  [ 0.56576746 -0.90937671]]\n",
    "\n",
    "print(eigenvectors[:,0]) # column 0 corresponding to eigenvalue[0]\n",
    "# [-0.82456484  0.56576746]\n",
    "\n",
    "# verify: e-vec * e-val = A * e-vec\n",
    "d = eigenvectors[:,0] * eigenvalues[0]\n",
    "e = a @ eigenvectors[:, 0]\n",
    "\n",
    "print(d, e) # [ 0.30697009 -0.21062466] [ 0.30697009 -0.21062466]\n",
    "# looks the same, but:\n",
    "print(d == e) # [ True False] -> numerical issues\n",
    "\n",
    "# correct way to compare matrix\n",
    "print(np.allclose(d,e)) # True\n",
    "#Solving Linear Systems\n",
    "#     x1 + x2   = 2200\n",
    "# 1.5 x1 + 4 x2 = 5050\n",
    "# -> 2 equations and 2 unknowns\n",
    "A = np.array([[1, 1], [1.5, 4]])\n",
    "b = np.array([2200,5050])\n",
    "\n",
    "# Ax = b <=> x = A-1 b\n",
    "\n",
    "# But: inverse is slow and less accurate\n",
    "x = np.linalg.inv(A).dot(b) # not recommended\n",
    "print(x) # [1500.  700.]\n",
    "\n",
    "# instead use:\n",
    "x = np.linalg.solve(A,b) # good\n",
    "print(x) # [1500.  700.]"
   ]
  },
  {
   "cell_type": "markdown",
   "metadata": {},
   "source": [
    "# 17. Loading CSV files"
   ]
  },
  {
   "cell_type": "code",
   "execution_count": 24,
   "metadata": {},
   "outputs": [
    {
     "name": "stdout",
     "output_type": "stream",
     "text": [
      "(4601, 58) float32\n",
      "(4601, 58)\n"
     ]
    }
   ],
   "source": [
    "#I have a detailed tutorial about loading data here.\n",
    "\n",
    "# 1) load with np.loadtxt()\n",
    "# skiprows=1, ...\n",
    "data = np.loadtxt('my_file.csv', delimiter=\",\",dtype=np.float32)\n",
    "print(data.shape, data.dtype)\n",
    "\n",
    "# 2) load with np.genfromtxt()\n",
    "# similar but slightly more configuration parameters\n",
    "# skip_header=0, missing_values=\"---\", filling_values=0.0, ...\n",
    "data = np.genfromtxt('my_file.csv', delimiter=\",\", dtype=np.float32)\n",
    "print(data.shape)"
   ]
  },
  {
   "cell_type": "code",
   "execution_count": 36,
   "metadata": {},
   "outputs": [
    {
     "name": "stdout",
     "output_type": "stream",
     "text": [
      "(1, 5)\n",
      "(5, 1)\n"
     ]
    },
    {
     "data": {
      "text/plain": [
       "array([[1],\n",
       "       [2],\n",
       "       [3],\n",
       "       [4],\n",
       "       [5]])"
      ]
     },
     "execution_count": 36,
     "metadata": {},
     "output_type": "execute_result"
    }
   ],
   "source": [
    "a=np.array([[1,2,3,4,5]])\n",
    "a.shape\n",
    "b=np.transpose(a)\n",
    "print(a.shape)\n",
    "print(b.shape)\n",
    "b"
   ]
  },
  {
   "cell_type": "code",
   "execution_count": 98,
   "metadata": {},
   "outputs": [
    {
     "data": {
      "text/plain": [
       "array([1, 2, 3])"
      ]
     },
     "execution_count": 98,
     "metadata": {},
     "output_type": "execute_result"
    }
   ],
   "source": [
    "l=[1,2,3]\n",
    "a=np.array(l)\n",
    "a"
   ]
  },
  {
   "cell_type": "code",
   "execution_count": 40,
   "metadata": {},
   "outputs": [
    {
     "data": {
      "text/plain": [
       "[1, 2, 3]"
      ]
     },
     "execution_count": 40,
     "metadata": {},
     "output_type": "execute_result"
    }
   ],
   "source": [
    "c=list(a)\n",
    "c"
   ]
  },
  {
   "cell_type": "code",
   "execution_count": 41,
   "metadata": {},
   "outputs": [
    {
     "data": {
      "text/plain": [
       "True"
      ]
     },
     "execution_count": 41,
     "metadata": {},
     "output_type": "execute_result"
    }
   ],
   "source": [
    "c==l"
   ]
  },
  {
   "cell_type": "code",
   "execution_count": 62,
   "metadata": {},
   "outputs": [
    {
     "data": {
      "text/plain": [
       "array([[1, 2, 3],\n",
       "       [4, 5, 6]])"
      ]
     },
     "execution_count": 62,
     "metadata": {},
     "output_type": "execute_result"
    }
   ],
   "source": [
    "d=np.array([[1,2,3],[4,5,6]])\n",
    "d"
   ]
  },
  {
   "cell_type": "code",
   "execution_count": 52,
   "metadata": {},
   "outputs": [],
   "source": [
    "s=list(list(d))"
   ]
  },
  {
   "cell_type": "code",
   "execution_count": 53,
   "metadata": {},
   "outputs": [
    {
     "data": {
      "text/plain": [
       "[array([1, 2, 3]), array([4, 5, 6])]"
      ]
     },
     "execution_count": 53,
     "metadata": {},
     "output_type": "execute_result"
    }
   ],
   "source": [
    "s"
   ]
  },
  {
   "cell_type": "code",
   "execution_count": 54,
   "metadata": {},
   "outputs": [],
   "source": [
    "s.append(4)"
   ]
  },
  {
   "cell_type": "code",
   "execution_count": 51,
   "metadata": {},
   "outputs": [
    {
     "data": {
      "text/plain": [
       "[array([1, 2, 3]), array([4, 5, 6]), 4]"
      ]
     },
     "execution_count": 51,
     "metadata": {},
     "output_type": "execute_result"
    }
   ],
   "source": [
    "s"
   ]
  },
  {
   "cell_type": "code",
   "execution_count": 55,
   "metadata": {},
   "outputs": [
    {
     "data": {
      "text/plain": [
       "array([1, 2, 3])"
      ]
     },
     "execution_count": 55,
     "metadata": {},
     "output_type": "execute_result"
    }
   ],
   "source": [
    "s[0]"
   ]
  },
  {
   "cell_type": "code",
   "execution_count": 60,
   "metadata": {},
   "outputs": [
    {
     "data": {
      "text/plain": [
       "1"
      ]
     },
     "execution_count": 60,
     "metadata": {},
     "output_type": "execute_result"
    }
   ],
   "source": [
    "s[0][0]"
   ]
  },
  {
   "cell_type": "code",
   "execution_count": 61,
   "metadata": {},
   "outputs": [
    {
     "data": {
      "text/plain": [
       "4"
      ]
     },
     "execution_count": 61,
     "metadata": {},
     "output_type": "execute_result"
    }
   ],
   "source": [
    "s[2]"
   ]
  },
  {
   "cell_type": "code",
   "execution_count": 92,
   "metadata": {},
   "outputs": [
    {
     "data": {
      "text/plain": [
       "array([1, 2, 3])"
      ]
     },
     "execution_count": 92,
     "metadata": {},
     "output_type": "execute_result"
    }
   ],
   "source": [
    "a"
   ]
  },
  {
   "cell_type": "code",
   "execution_count": 65,
   "metadata": {},
   "outputs": [
    {
     "data": {
      "text/plain": [
       "[1, 2, 3]"
      ]
     },
     "execution_count": 65,
     "metadata": {},
     "output_type": "execute_result"
    }
   ],
   "source": [
    "l"
   ]
  },
  {
   "cell_type": "code",
   "execution_count": 67,
   "metadata": {},
   "outputs": [
    {
     "data": {
      "text/plain": [
       "[1, 2, 3, 4]"
      ]
     },
     "execution_count": 67,
     "metadata": {},
     "output_type": "execute_result"
    }
   ],
   "source": [
    "l+[4]"
   ]
  },
  {
   "cell_type": "code",
   "execution_count": 93,
   "metadata": {},
   "outputs": [
    {
     "data": {
      "text/plain": [
       "array([5, 6, 7])"
      ]
     },
     "execution_count": 93,
     "metadata": {},
     "output_type": "execute_result"
    }
   ],
   "source": [
    "a+np.array([4])"
   ]
  },
  {
   "cell_type": "code",
   "execution_count": 106,
   "metadata": {},
   "outputs": [
    {
     "data": {
      "text/plain": [
       "140"
      ]
     },
     "execution_count": 106,
     "metadata": {},
     "output_type": "execute_result"
    }
   ],
   "source": [
    "l=[1,2,3]\n",
    "a=np.array(l)\n",
    "b=np.array([ 10,  20, 30])\n",
    "c=np.dot(a,b)\n",
    "c"
   ]
  },
  {
   "cell_type": "code",
   "execution_count": 107,
   "metadata": {},
   "outputs": [
    {
     "data": {
      "text/plain": [
       "140"
      ]
     },
     "execution_count": 107,
     "metadata": {},
     "output_type": "execute_result"
    }
   ],
   "source": [
    "a@b"
   ]
  },
  {
   "cell_type": "code",
   "execution_count": 116,
   "metadata": {},
   "outputs": [
    {
     "data": {
      "text/plain": [
       "array([[[10],\n",
       "        [ 5]],\n",
       "\n",
       "       [[20],\n",
       "        [ 6]],\n",
       "\n",
       "       [[30],\n",
       "        [ 7]]])"
      ]
     },
     "execution_count": 116,
     "metadata": {},
     "output_type": "execute_result"
    }
   ],
   "source": [
    "x=np.array([[[10,  20, 30],[5,6,7]]])\n",
    "x.T"
   ]
  },
  {
   "cell_type": "code",
   "execution_count": 122,
   "metadata": {},
   "outputs": [
    {
     "data": {
      "text/plain": [
       "array([[10,  5],\n",
       "       [20,  6],\n",
       "       [30,  7]])"
      ]
     },
     "execution_count": 122,
     "metadata": {},
     "output_type": "execute_result"
    }
   ],
   "source": [
    "x=np.array([[10,  20, 30],[5,6,7]])\n",
    "x.T"
   ]
  },
  {
   "cell_type": "code",
   "execution_count": 120,
   "metadata": {},
   "outputs": [
    {
     "data": {
      "text/plain": [
       "array([[[10]],\n",
       "\n",
       "       [[20]],\n",
       "\n",
       "       [[30]]])"
      ]
     },
     "execution_count": 120,
     "metadata": {},
     "output_type": "execute_result"
    }
   ],
   "source": [
    "x=np.array([[[10,  20, 30]]])\n",
    "x.T"
   ]
  },
  {
   "cell_type": "code",
   "execution_count": 123,
   "metadata": {},
   "outputs": [
    {
     "data": {
      "text/plain": [
       "array([[[10],\n",
       "        [ 5],\n",
       "        [ 8]],\n",
       "\n",
       "       [[20],\n",
       "        [ 6],\n",
       "        [ 9]],\n",
       "\n",
       "       [[30],\n",
       "        [ 7],\n",
       "        [10]]])"
      ]
     },
     "execution_count": 123,
     "metadata": {},
     "output_type": "execute_result"
    }
   ],
   "source": [
    "x=np.array([[[10,  20, 30],[5,6,7],[8,9,10]]])\n",
    "x.T"
   ]
  },
  {
   "cell_type": "code",
   "execution_count": 127,
   "metadata": {},
   "outputs": [
    {
     "data": {
      "text/plain": [
       "array([[-0.15 ,  0.5  ],\n",
       "       [ 0.125, -0.25 ]])"
      ]
     },
     "execution_count": 127,
     "metadata": {},
     "output_type": "execute_result"
    }
   ],
   "source": [
    "x=np.array([[10,  20],[5,6]])\n",
    "z=np.linalg.inv(x)\n",
    "z"
   ]
  },
  {
   "cell_type": "code",
   "execution_count": 128,
   "metadata": {},
   "outputs": [
    {
     "data": {
      "text/plain": [
       "array([1, 2, 3])"
      ]
     },
     "execution_count": 128,
     "metadata": {},
     "output_type": "execute_result"
    }
   ],
   "source": [
    "a"
   ]
  },
  {
   "cell_type": "code",
   "execution_count": 137,
   "metadata": {},
   "outputs": [
    {
     "name": "stdout",
     "output_type": "stream",
     "text": [
      "[[1 2 3]\n",
      " [4 5 6]\n",
      " [7 8 9]]\n",
      "[1 5 9]\n",
      "[[1 0 0]\n",
      " [0 5 0]\n",
      " [0 0 9]]\n"
     ]
    }
   ],
   "source": [
    "d=np.array([[1,2,3],[4,5,6],[7,8,9]])\n",
    "c=np.diag(d)\n",
    "print(d)\n",
    "print(c)\n",
    "print(np.diag(c))"
   ]
  },
  {
   "cell_type": "code",
   "execution_count": 140,
   "metadata": {},
   "outputs": [
    {
     "name": "stdout",
     "output_type": "stream",
     "text": [
      "[[1 0 0 0 0 0]\n",
      " [0 2 0 0 0 0]\n",
      " [0 0 3 0 0 0]\n",
      " [0 0 0 4 0 0]\n",
      " [0 0 0 0 5 0]\n",
      " [0 0 0 0 0 6]]\n"
     ]
    }
   ],
   "source": [
    "x=np.array([1,2,3,4,5,6])\n",
    "print(np.diag(x))"
   ]
  },
  {
   "cell_type": "code",
   "execution_count": 149,
   "metadata": {},
   "outputs": [
    {
     "name": "stdout",
     "output_type": "stream",
     "text": [
      "[0 2 3 4 6 7]\n",
      "[10 30  4 50 80 88]\n"
     ]
    }
   ],
   "source": [
    "a=np.array([10,19,30,4,50,61,80,88])\n",
    "even=np.argwhere(a%2==0).flatten()\n",
    "print(even)\n",
    "print(a[even])"
   ]
  },
  {
   "cell_type": "code",
   "execution_count": 158,
   "metadata": {},
   "outputs": [
    {
     "name": "stdout",
     "output_type": "stream",
     "text": [
      "[0 1 2 3 4 5 6 7 8 9]\n",
      "[2 3 4 5 6 7 8 9]\n"
     ]
    }
   ],
   "source": [
    "x = np.arange(10)\n",
    "print(x)\n",
    "even=np.argwhere(x>1).flatten()\n",
    "print(x[even])"
   ]
  },
  {
   "cell_type": "code",
   "execution_count": 163,
   "metadata": {},
   "outputs": [
    {
     "data": {
      "text/plain": [
       "array([[2, 3, 4, 5, 6]])"
      ]
     },
     "execution_count": 163,
     "metadata": {},
     "output_type": "execute_result"
    }
   ],
   "source": [
    "a=np.array([[1,2,3,4,5]])\n",
    "b=np.array([1])\n",
    "a+b"
   ]
  },
  {
   "cell_type": "code",
   "execution_count": 165,
   "metadata": {},
   "outputs": [
    {
     "data": {
      "text/plain": [
       "array([[2, 3, 4, 5, 6],\n",
       "       [2, 3, 4, 5, 6],\n",
       "       [2, 3, 4, 5, 6]])"
      ]
     },
     "execution_count": 165,
     "metadata": {},
     "output_type": "execute_result"
    }
   ],
   "source": [
    "a=np.array([1,2,3,4,5])\n",
    "b=np.array([[1],[1],[1]])\n",
    "a+b"
   ]
  },
  {
   "cell_type": "code",
   "execution_count": 167,
   "metadata": {},
   "outputs": [
    {
     "data": {
      "text/plain": [
       "array([[2, 3, 4],\n",
       "       [3, 4, 5],\n",
       "       [4, 5, 6]])"
      ]
     },
     "execution_count": 167,
     "metadata": {},
     "output_type": "execute_result"
    }
   ],
   "source": [
    "a=np.array([1,2,3])\n",
    "b=np.array([[1],[2],[3]])\n",
    "a+b"
   ]
  },
  {
   "cell_type": "code",
   "execution_count": 168,
   "metadata": {},
   "outputs": [
    {
     "data": {
      "text/plain": [
       "21"
      ]
     },
     "execution_count": 168,
     "metadata": {},
     "output_type": "execute_result"
    }
   ],
   "source": [
    "a=np.array([[1,2,3],[4,5,6]])\n",
    "a.sum()"
   ]
  },
  {
   "cell_type": "code",
   "execution_count": 173,
   "metadata": {},
   "outputs": [
    {
     "data": {
      "text/plain": [
       "21"
      ]
     },
     "execution_count": 173,
     "metadata": {},
     "output_type": "execute_result"
    }
   ],
   "source": [
    "a.sum(axis=None)"
   ]
  },
  {
   "cell_type": "code",
   "execution_count": 169,
   "metadata": {},
   "outputs": [
    {
     "data": {
      "text/plain": [
       "array([5, 7, 9])"
      ]
     },
     "execution_count": 169,
     "metadata": {},
     "output_type": "execute_result"
    }
   ],
   "source": [
    "a.sum(axis=0)"
   ]
  },
  {
   "cell_type": "code",
   "execution_count": 170,
   "metadata": {},
   "outputs": [
    {
     "data": {
      "text/plain": [
       "array([ 6, 15])"
      ]
     },
     "execution_count": 170,
     "metadata": {},
     "output_type": "execute_result"
    }
   ],
   "source": [
    "a.sum(axis=1)"
   ]
  },
  {
   "cell_type": "code",
   "execution_count": 175,
   "metadata": {},
   "outputs": [
    {
     "data": {
      "text/plain": [
       "array([0, 1, 2, 3])"
      ]
     },
     "execution_count": 175,
     "metadata": {},
     "output_type": "execute_result"
    }
   ],
   "source": [
    "a=np.arange(4)\n",
    "a"
   ]
  },
  {
   "cell_type": "code",
   "execution_count": 182,
   "metadata": {},
   "outputs": [
    {
     "data": {
      "text/plain": [
       "array([2, 4, 6, 8])"
      ]
     },
     "execution_count": 182,
     "metadata": {},
     "output_type": "execute_result"
    }
   ],
   "source": [
    "a=np.arange(2,10,step=2)\n",
    "a"
   ]
  },
  {
   "cell_type": "code",
   "execution_count": 204,
   "metadata": {},
   "outputs": [
    {
     "data": {
      "text/plain": [
       "array([0. , 0.9, 1.8, 2.7, 3.6, 4.5, 5.4, 6.3, 7.2, 8.1])"
      ]
     },
     "execution_count": 204,
     "metadata": {},
     "output_type": "execute_result"
    }
   ],
   "source": [
    "b=np.linspace(0,9,10,endpoint=False)\n",
    "b"
   ]
  },
  {
   "cell_type": "code",
   "execution_count": 5,
   "metadata": {},
   "outputs": [],
   "source": [
    "import numpy as np"
   ]
  },
  {
   "cell_type": "code",
   "execution_count": 6,
   "metadata": {},
   "outputs": [
    {
     "name": "stdout",
     "output_type": "stream",
     "text": [
      "1.19.2\n"
     ]
    }
   ],
   "source": [
    "print(np.__version__)"
   ]
  },
  {
   "cell_type": "code",
   "execution_count": null,
   "metadata": {},
   "outputs": [],
   "source": []
  },
  {
   "cell_type": "code",
   "execution_count": null,
   "metadata": {},
   "outputs": [],
   "source": []
  }
 ],
 "metadata": {
  "kernelspec": {
   "display_name": "Python 3",
   "language": "python",
   "name": "python3"
  },
  "language_info": {
   "codemirror_mode": {
    "name": "ipython",
    "version": 3
   },
   "file_extension": ".py",
   "mimetype": "text/x-python",
   "name": "python",
   "nbconvert_exporter": "python",
   "pygments_lexer": "ipython3",
   "version": "3.8.5"
  }
 },
 "nbformat": 4,
 "nbformat_minor": 4
}
