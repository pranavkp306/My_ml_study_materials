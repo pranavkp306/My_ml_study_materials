{
 "cells": [
  {
   "cell_type": "code",
   "execution_count": 276,
   "metadata": {},
   "outputs": [
    {
     "name": "stdout",
     "output_type": "stream",
     "text": [
      "1\n",
      "Nike| ADIDAS| Puma..,Upto 60% Off,Men's Sports Shoes..,Flipkart,11/1/2021,21 hours left\n",
      "\n",
      "2\n",
      "Libas| W |Aurelia...,Min 50% Off,Kurtas & Sets,Flipkart,11/1/2021,21 hours left\n",
      "\n",
      "3\n",
      "Sarees,Min 60% Off,Saara| Divastri & more,Flipkart,11/1/2021,21 hours left\n",
      "\n",
      "4\n",
      "Cookware Set & more,Up to 70% off,Prestige| Pigeon & more,Flipkart,11/1/2021,21 hours left\n",
      "\n",
      "5\n",
      "Tops| Dresses| Denims,From ₹149 + 10% Off,The Dry State| Athena & more,Flipkart,11/1/2021,21 hours left\n",
      "\n",
      "6\n",
      "Speakers,Upto 50% off,BoAt| Infinity & more,Flipkart,11/1/2021,21 hours left\n",
      "\n",
      "7\n",
      "Makeup Bestsellers,From ₹99+5% Extra Off,Lakme| Maybelline| Sugar..,Flipkart,11/1/2021,21 hours left\n",
      "\n",
      "8\n",
      "Badminton Racquets,From ₹199,Yonex| Li-Ning & more,Flipkart,11/1/2021,21 hours left\n",
      "\n",
      "9\n",
      "Food & Bevarages,Upto 45%+Extra 5% Off,Saffola| Nescafe & More,Flipkart,11/1/2021,21 hours left\n",
      "\n",
      "10\n",
      "Headphones,Upto 50% off,JBL|Sony & more,Flipkart,11/1/2021,21 hours left\n",
      "\n",
      "11\n",
      "Kitchen and Dining Range,From ₹99,Container| Lunch Box & more,Flipkart,11/1/2021,21 hours left\n",
      "\n",
      "12\n",
      "Baby Care,Upto 60% Off,Baby Bedding & More,Flipkart,11/1/2021,21 hours left\n",
      "\n"
     ]
    }
   ],
   "source": [
    "from bs4 import BeautifulSoup\n",
    "import requests\n",
    "\n",
    "from datetime import date \n",
    "today=date.today()\n",
    "year,month,day= today.year, today.month, today.day\n",
    "final_date=str(day)+\"/\"+str(month)+\"/\"+str(year)\n",
    "#print (final_date)\n",
    "\n",
    "\n",
    "source = requests.get(\"https://www.flipkart.com/dotd-store?=Web&wid=3.dealCard.OMU_2&otracker=hp_omu_Deals%2Bof%2Bthe%2BDay_2&otracker1=hp_omu_SECTIONED_neo%2Fmerchandising_Deals%2Bof%2Bthe%2BDay_NA_wc_view-all_2\").text\n",
    "soup = BeautifulSoup(source, 'lxml')\n",
    "findings=soup.find_all(\"div\",{\"class\":\"_1FNrEw\"})\n",
    "time_left_find=soup.find(\"div\",{\"class\":\"_3vaoUF\"})\n",
    "title=(time_left_find.div.text)# .text will give you any text in the div class\n",
    "#print(title)\n",
    "time_left=time_left_find.span.text\n",
    "expire1=\"{} hours {} minutes {} seconds Left\".format(time_left[:2],time_left[5:7],time_left[10:])\n",
    "expire=\"{} hours left\".format(time_left[:2])\n",
    "\n",
    "\n",
    "item=soup.find_all(\"div\",{\"class\":\"_3LU4EM\"})\n",
    "price=soup.find_all(\"div\",{\"class\":\"_2tDhp2\"})\n",
    "extras=soup.find_all(\"div\",{\"class\":\"_3khuHA\"})\n",
    "\n",
    "\n",
    "file_name=\"product.csv\"\n",
    "f=open(file_name,\"w\", encoding='utf-8')\n",
    "header=(\"product_name,offer,more,offer_on,date,time_left \\n\")\n",
    "f.write(header)\n",
    "\n",
    "\n",
    "i=(len(item)-1)\n",
    "x=i+1\n",
    "while i > -1:\n",
    "    print(abs(x-i))\n",
    "    title=(item[i].text)\n",
    "    item_price=(price[i].text)\n",
    "    extra=(extras[i].text)\n",
    "    final_title=(title.replace(\",\",\"|\"))\n",
    "    final_price=(item_price.replace(\",\",\"|\"))\n",
    "    final_extra=(extra.replace(\",\",\"|\"))\n",
    "    print(final_title+\",\"+final_price+\",\"+final_extra+\",\"+\"Flipkart\"+\",\"+final_date+\",\"+expire+\"\\n\")\n",
    "    f.write(final_title+\",\"+final_price+\",\"+final_extra+\",\"+\"flipkart\"+\",\"+final_date+\",\"+expire+\"\\n\")\n",
    "    \n",
    "    i=i-1\n",
    "\n",
    "\n",
    "\n"
   ]
  },
  {
   "cell_type": "code",
   "execution_count": 263,
   "metadata": {},
   "outputs": [],
   "source": [
    "a=\"$\"\n",
    "b=\"₹\""
   ]
  },
  {
   "cell_type": "code",
   "execution_count": 265,
   "metadata": {},
   "outputs": [
    {
     "data": {
      "text/plain": [
       "'$'"
      ]
     },
     "execution_count": 265,
     "metadata": {},
     "output_type": "execute_result"
    }
   ],
   "source": []
  },
  {
   "cell_type": "code",
   "execution_count": null,
   "metadata": {},
   "outputs": [],
   "source": []
  },
  {
   "cell_type": "code",
   "execution_count": null,
   "metadata": {},
   "outputs": [],
   "source": []
  }
 ],
 "metadata": {
  "kernelspec": {
   "display_name": "Python 3",
   "language": "python",
   "name": "python3"
  },
  "language_info": {
   "codemirror_mode": {
    "name": "ipython",
    "version": 3
   },
   "file_extension": ".py",
   "mimetype": "text/x-python",
   "name": "python",
   "nbconvert_exporter": "python",
   "pygments_lexer": "ipython3",
   "version": "3.8.5"
  }
 },
 "nbformat": 4,
 "nbformat_minor": 4
}
