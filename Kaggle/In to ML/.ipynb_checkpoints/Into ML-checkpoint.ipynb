{
 "cells": [
  {
   "cell_type": "code",
   "execution_count": 1,
   "id": "terminal-entry",
   "metadata": {},
   "outputs": [],
   "source": [
    "import numpy as np\n",
    "import pandas as pd\n",
    "import matplotlib.pyplot as plt\n",
    "%matplotlib inline"
   ]
  },
  {
   "cell_type": "code",
   "execution_count": 4,
   "id": "excessive-custody",
   "metadata": {},
   "outputs": [
    {
     "name": "stdout",
     "output_type": "stream",
     "text": [
      "<class 'pandas.core.frame.DataFrame'>\n",
      "RangeIndex: 13580 entries, 0 to 13579\n",
      "Data columns (total 21 columns):\n",
      " #   Column         Non-Null Count  Dtype  \n",
      "---  ------         --------------  -----  \n",
      " 0   Suburb         13580 non-null  object \n",
      " 1   Address        13580 non-null  object \n",
      " 2   Rooms          13580 non-null  int64  \n",
      " 3   Type           13580 non-null  object \n",
      " 4   Price          13580 non-null  float64\n",
      " 5   Method         13580 non-null  object \n",
      " 6   SellerG        13580 non-null  object \n",
      " 7   Date           13580 non-null  object \n",
      " 8   Distance       13580 non-null  float64\n",
      " 9   Postcode       13580 non-null  float64\n",
      " 10  Bedroom2       13580 non-null  float64\n",
      " 11  Bathroom       13580 non-null  float64\n",
      " 12  Car            13518 non-null  float64\n",
      " 13  Landsize       13580 non-null  float64\n",
      " 14  BuildingArea   7130 non-null   float64\n",
      " 15  YearBuilt      8205 non-null   float64\n",
      " 16  CouncilArea    12211 non-null  object \n",
      " 17  Lattitude      13580 non-null  float64\n",
      " 18  Longtitude     13580 non-null  float64\n",
      " 19  Regionname     13580 non-null  object \n",
      " 20  Propertycount  13580 non-null  float64\n",
      "dtypes: float64(12), int64(1), object(8)\n",
      "memory usage: 2.2+ MB\n"
     ]
    }
   ],
   "source": [
    "df=pd.read_csv('melb_data.csv')\n",
    "df.info()"
   ]
  },
  {
   "cell_type": "markdown",
   "id": "recognized-neighborhood",
   "metadata": {},
   "source": [
    "# Droping all rows with null values (dropna(axis=0))"
   ]
  },
  {
   "cell_type": "code",
   "execution_count": 5,
   "id": "supposed-resident",
   "metadata": {},
   "outputs": [],
   "source": [
    "df=df.dropna(axis=0)"
   ]
  },
  {
   "cell_type": "code",
   "execution_count": 6,
   "id": "liked-reconstruction",
   "metadata": {},
   "outputs": [
    {
     "name": "stdout",
     "output_type": "stream",
     "text": [
      "<class 'pandas.core.frame.DataFrame'>\n",
      "Int64Index: 6196 entries, 1 to 12212\n",
      "Data columns (total 21 columns):\n",
      " #   Column         Non-Null Count  Dtype  \n",
      "---  ------         --------------  -----  \n",
      " 0   Suburb         6196 non-null   object \n",
      " 1   Address        6196 non-null   object \n",
      " 2   Rooms          6196 non-null   int64  \n",
      " 3   Type           6196 non-null   object \n",
      " 4   Price          6196 non-null   float64\n",
      " 5   Method         6196 non-null   object \n",
      " 6   SellerG        6196 non-null   object \n",
      " 7   Date           6196 non-null   object \n",
      " 8   Distance       6196 non-null   float64\n",
      " 9   Postcode       6196 non-null   float64\n",
      " 10  Bedroom2       6196 non-null   float64\n",
      " 11  Bathroom       6196 non-null   float64\n",
      " 12  Car            6196 non-null   float64\n",
      " 13  Landsize       6196 non-null   float64\n",
      " 14  BuildingArea   6196 non-null   float64\n",
      " 15  YearBuilt      6196 non-null   float64\n",
      " 16  CouncilArea    6196 non-null   object \n",
      " 17  Lattitude      6196 non-null   float64\n",
      " 18  Longtitude     6196 non-null   float64\n",
      " 19  Regionname     6196 non-null   object \n",
      " 20  Propertycount  6196 non-null   float64\n",
      "dtypes: float64(12), int64(1), object(8)\n",
      "memory usage: 1.0+ MB\n"
     ]
    }
   ],
   "source": [
    "df.info()"
   ]
  },
  {
   "cell_type": "markdown",
   "id": "celtic-chrome",
   "metadata": {},
   "source": [
    "# select the column we want to predict & Choosing \"Features\""
   ]
  },
  {
   "cell_type": "code",
   "execution_count": 7,
   "id": "according-addiction",
   "metadata": {},
   "outputs": [],
   "source": [
    "y=df.Price\n",
    "features=['Rooms', 'Bathroom', 'Landsize', 'Lattitude', 'Longtitude']\n",
    "x=df[features]"
   ]
  },
  {
   "cell_type": "markdown",
   "id": "electric-uzbekistan",
   "metadata": {},
   "source": [
    "# Scikitlearn Decision Tree\n"
   ]
  },
  {
   "cell_type": "code",
   "execution_count": 31,
   "id": "severe-antenna",
   "metadata": {},
   "outputs": [
    {
     "data": {
      "text/plain": [
       "DecisionTreeRegressor(random_state=12)"
      ]
     },
     "execution_count": 31,
     "metadata": {},
     "output_type": "execute_result"
    }
   ],
   "source": [
    "from sklearn.tree import DecisionTreeRegressor\n",
    "\n",
    "tree_model=DecisionTreeRegressor(random_state=12)\n",
    "tree_model.fit(x,y)"
   ]
  },
  {
   "cell_type": "code",
   "execution_count": 32,
   "id": "hearing-relation",
   "metadata": {},
   "outputs": [
    {
     "name": "stdout",
     "output_type": "stream",
     "text": [
      "Making predictions for the following 5 houses:\n",
      "   Rooms  Bathroom  Landsize  Lattitude  Longtitude\n",
      "1      2       1.0     156.0   -37.8079    144.9934\n",
      "2      3       2.0     134.0   -37.8093    144.9944\n",
      "4      4       1.0     120.0   -37.8072    144.9941\n",
      "6      3       2.0     245.0   -37.8024    144.9993\n",
      "7      2       1.0     256.0   -37.8060    144.9954\n",
      "The predictions are\n",
      "[1035000. 1465000. 1600000. 1876000. 1636000.]\n"
     ]
    }
   ],
   "source": [
    "print(\"Making predictions for the following 5 houses:\")\n",
    "print(x.head())\n",
    "print(\"The predictions are\")\n",
    "print(tree_model.predict(x.head()))"
   ]
  },
  {
   "cell_type": "code",
   "execution_count": 33,
   "id": "behind-signal",
   "metadata": {
    "scrolled": true
   },
   "outputs": [
    {
     "data": {
      "text/plain": [
       "1    1035000.0\n",
       "2    1465000.0\n",
       "4    1600000.0\n",
       "6    1876000.0\n",
       "7    1636000.0\n",
       "Name: Price, dtype: float64"
      ]
     },
     "execution_count": 33,
     "metadata": {},
     "output_type": "execute_result"
    }
   ],
   "source": [
    "y.head()"
   ]
  },
  {
   "cell_type": "markdown",
   "id": "surrounded-expert",
   "metadata": {},
   "source": [
    "# mean absolute error mean(abs(actual-predicted))"
   ]
  },
  {
   "cell_type": "code",
   "execution_count": 34,
   "id": "photographic-fortune",
   "metadata": {},
   "outputs": [
    {
     "data": {
      "text/plain": [
       "1115.7467183128902"
      ]
     },
     "execution_count": 34,
     "metadata": {},
     "output_type": "execute_result"
    }
   ],
   "source": [
    "from sklearn.metrics import mean_absolute_error\n",
    "predicted_price=tree_model.predict(x)\n",
    "mean_absolute_error(y,predicted_price)"
   ]
  },
  {
   "cell_type": "markdown",
   "id": "quarterly-pursuit",
   "metadata": {},
   "source": [
    "# train_test_split from sklearn.model_selection"
   ]
  },
  {
   "cell_type": "code",
   "execution_count": 51,
   "id": "technological-hampton",
   "metadata": {},
   "outputs": [
    {
     "name": "stdout",
     "output_type": "stream",
     "text": [
      "[ 503000. 1857000.  760000. 1395000. 4250000. 1195000.  905000. 2300000.\n",
      "  810000.  710000.]\n",
      "6048      620000.0\n",
      "9186     2320000.0\n",
      "3991      750000.0\n",
      "5829     1120000.0\n",
      "3616     6500000.0\n",
      "2409      870000.0\n",
      "10632     760000.0\n",
      "5666     2600000.0\n",
      "4287      830000.0\n",
      "4246     1280000.0\n",
      "Name: Price, dtype: float64\n"
     ]
    }
   ],
   "source": [
    "from sklearn.model_selection import train_test_split\n",
    "x_train,x_test,y_train,y_test = train_test_split(x,y,random_state=1)\n",
    "des_tree=DecisionTreeRegressor(random_state=1)\n",
    "des_tree.fit(x_train,y_train)\n",
    "predicted=des_tree.predict(x_test)\n",
    "print(predicted[:10])\n",
    "print(y_test.head(10))"
   ]
  },
  {
   "cell_type": "code",
   "execution_count": 53,
   "id": "reported-monitor",
   "metadata": {},
   "outputs": [
    {
     "data": {
      "text/plain": [
       "251688.7630729503"
      ]
     },
     "execution_count": 53,
     "metadata": {},
     "output_type": "execute_result"
    }
   ],
   "source": [
    "#mean absolute error\n",
    "mae=mean_absolute_error(y_test,predicted)\n",
    "mae"
   ]
  },
  {
   "cell_type": "markdown",
   "id": "virgin-census",
   "metadata": {},
   "source": [
    "# max_leaf_nodes\n",
    " the max_leaf_nodes argument provides a very sensible way to control **overfitting vs underfitting**. The **more leaves we allow the model to make**, the more we move from the underfitting area in the above graph to the overfitting area."
   ]
  },
  {
   "cell_type": "code",
   "execution_count": 60,
   "id": "super-madonna",
   "metadata": {},
   "outputs": [
    {
     "name": "stdout",
     "output_type": "stream",
     "text": [
      "max leaf node: 5 \t\t mae: 385696 \n",
      "max leaf node: 50 \t\t mae: 279794 \n",
      "max leaf node: 25 \t\t mae: 307919 \n",
      "max leaf node: 100 \t\t mae: 269191 \n",
      "max leaf node: 150 \t\t mae: 267918 \n",
      "max leaf node: 200 \t\t mae: 270633 \n",
      "max leaf node: 250 \t\t mae: 269945 \n",
      "max leaf node: 500 \t\t mae: 261718 \n",
      "max leaf node: 550 \t\t mae: 260545 \n",
      "max leaf node: 700 \t\t mae: 261664 \n",
      "max leaf node: 750 \t\t mae: 261713 \n",
      "max leaf node: 5000 \t\t mae: 271996 \n"
     ]
    },
    {
     "data": {
      "text/plain": [
       "{5: 385697,\n",
       " 50: 279795,\n",
       " 25: 307920,\n",
       " 100: 269192,\n",
       " 150: 267918,\n",
       " 200: 270633,\n",
       " 250: 269945,\n",
       " 500: 261718,\n",
       " 550: 260545,\n",
       " 700: 261664,\n",
       " 750: 261713,\n",
       " 5000: 271996}"
      ]
     },
     "execution_count": 60,
     "metadata": {},
     "output_type": "execute_result"
    }
   ],
   "source": [
    "def get_mae(max_leaf_nodes,train_x,train_y,test_x,test_y):\n",
    "    model=DecisionTreeRegressor(max_leaf_nodes=max_leaf_nodes,random_state=0)\n",
    "    model.fit(train_x,train_y)\n",
    "    predicted_val=model.predict(test_x)\n",
    "    mae=mean_absolute_error(test_y,predicted_val)\n",
    "    return mae\n",
    "\n",
    "train_x,test_x,train_y,test_y=train_test_split(x,y,random_state=0)\n",
    "\n",
    "dic={}\n",
    "\n",
    "for max_leaf in [5,50,25,100,150,200,250,500,550,700,750,5000]:\n",
    "    new_mae=get_mae(max_leaf,train_x,train_y,test_x,test_y)\n",
    "    print('max leaf node: %d \\t\\t mae: %d '%(max_leaf,new_mae))\n",
    "    dic[max_leaf]=round(new_mae)\n",
    "dic"
   ]
  },
  {
   "cell_type": "markdown",
   "id": "incorporate-bailey",
   "metadata": {},
   "source": [
    "#### Now we   know that max_leaf_nodes  is best at 550 by using that we fit the model to main x and y"
   ]
  },
  {
   "cell_type": "code",
   "execution_count": null,
   "id": "spoken-renewal",
   "metadata": {},
   "outputs": [],
   "source": []
  },
  {
   "cell_type": "code",
   "execution_count": 62,
   "id": "round-miller",
   "metadata": {},
   "outputs": [
    {
     "data": {
      "text/plain": [
       "DecisionTreeRegressor(max_leaf_nodes=550, random_state=0)"
      ]
     },
     "execution_count": 62,
     "metadata": {},
     "output_type": "execute_result"
    }
   ],
   "source": [
    "final_model=DecisionTreeRegressor(max_leaf_nodes =550,random_state=0)\n",
    "final_model.fit(x,y)"
   ]
  },
  {
   "cell_type": "markdown",
   "id": "secret-mailman",
   "metadata": {},
   "source": [
    "."
   ]
  },
  {
   "cell_type": "markdown",
   "id": "scenic-aviation",
   "metadata": {},
   "source": [
    "."
   ]
  },
  {
   "cell_type": "markdown",
   "id": "limited-adrian",
   "metadata": {},
   "source": [
    "# ########...........congratz you made your first ML model............########"
   ]
  },
  {
   "cell_type": "markdown",
   "id": "former-softball",
   "metadata": {},
   "source": [
    "."
   ]
  },
  {
   "cell_type": "markdown",
   "id": "scientific-province",
   "metadata": {},
   "source": [
    "."
   ]
  },
  {
   "cell_type": "markdown",
   "id": "hired-advocacy",
   "metadata": {},
   "source": [
    "."
   ]
  },
  {
   "cell_type": "markdown",
   "id": "presidential-deadline",
   "metadata": {},
   "source": [
    "# Random forest\n",
    "Decision trees leave you with a difficult decision. A deep tree with lots of leaves will overfit because each prediction is coming from historical data from only the few houses at its leaf. But a shallow tree with few leaves will perform poorly because it fails to capture as many distinctions in the raw data.\n",
    "\n",
    "Even today's most sophisticated modeling techniques face this tension between underfitting and overfitting. But, many models have clever ideas that can lead to better performance. We'll look at the random forest as an example.\n",
    "\n",
    "The random forest uses many trees, and it makes a prediction by averaging the predictions of each component tree. It generally has much better predictive accuracy than a single decision tree and it works well with default parameters. If you keep modeling, you can learn more models with even better performance, but many of those are sensitive to getting the right parameters."
   ]
  },
  {
   "cell_type": "code",
   "execution_count": 64,
   "id": "handy-bidder",
   "metadata": {},
   "outputs": [],
   "source": [
    "import pandas as pd\n",
    "from sklearn.model_selection import train_test_split    \n",
    "# Load data\n",
    "#melbourne_file_path = '../input/melbourne-housing-snapshot/melb_data.csv'\n",
    "melbourne_data = pd.read_csv('melb_data.csv') \n",
    "# Filter rows with missing values\n",
    "melbourne_data = melbourne_data.dropna(axis=0)\n",
    "# Choose target and features\n",
    "y = melbourne_data.Price\n",
    "melbourne_features = ['Rooms', 'Bathroom', 'Landsize', 'BuildingArea', \n",
    "                        'YearBuilt', 'Lattitude', 'Longtitude']\n",
    "X = melbourne_data[melbourne_features]\n",
    "\n",
    "\n",
    "\n",
    "# split data into training and validation data, for both features and target\n",
    "# The split is based on a random number generator. Supplying a numeric value to\n",
    "# the random_state argument guarantees we get the same split every time we\n",
    "# run this script.\n",
    "train_X, val_X, train_y, val_y = train_test_split(X, y,random_state = 0)"
   ]
  },
  {
   "cell_type": "code",
   "execution_count": 65,
   "id": "noted-constitution",
   "metadata": {},
   "outputs": [
    {
     "name": "stdout",
     "output_type": "stream",
     "text": [
      "191669.7536453626\n"
     ]
    }
   ],
   "source": [
    "from sklearn.ensemble import RandomForestRegressor\n",
    "from sklearn.metrics import mean_absolute_error\n",
    "\n",
    "forest_model = RandomForestRegressor(random_state=1)\n",
    "forest_model.fit(train_X, train_y)\n",
    "melb_preds = forest_model.predict(val_X)\n",
    "print(mean_absolute_error(val_y, melb_preds))"
   ]
  },
  {
   "cell_type": "markdown",
   "id": "blind-africa",
   "metadata": {},
   "source": [
    " #### max_leaf_nodes is best at *550* and mae=*260545*,   in random forest the mae=*191669*"
   ]
  },
  {
   "cell_type": "code",
   "execution_count": null,
   "id": "gothic-ferry",
   "metadata": {},
   "outputs": [],
   "source": []
  }
 ],
 "metadata": {
  "kernelspec": {
   "display_name": "Python 3",
   "language": "python",
   "name": "python3"
  },
  "language_info": {
   "codemirror_mode": {
    "name": "ipython",
    "version": 3
   },
   "file_extension": ".py",
   "mimetype": "text/x-python",
   "name": "python",
   "nbconvert_exporter": "python",
   "pygments_lexer": "ipython3",
   "version": "3.8.5"
  }
 },
 "nbformat": 4,
 "nbformat_minor": 5
}
