{
 "cells": [
  {
   "cell_type": "code",
   "execution_count": 6,
   "id": "choice-abortion",
   "metadata": {},
   "outputs": [],
   "source": [
    "import pandas as pd\n",
    "import numpy as np\n",
    "from sklearn.metrics import mean_absolute_error\n",
    "from sklearn.model_selection import train_test_split\n",
    "from sklearn.tree import DecisionTreeRegressor\n",
    "from sklearn.ensemble import RandomForestRegressor"
   ]
  },
  {
   "cell_type": "markdown",
   "id": "understood-stereo",
   "metadata": {},
   "source": [
    "### Reading data to dataframe"
   ]
  },
  {
   "cell_type": "code",
   "execution_count": 10,
   "id": "martial-moses",
   "metadata": {
    "scrolled": true
   },
   "outputs": [
    {
     "name": "stdout",
     "output_type": "stream",
     "text": [
      "<class 'pandas.core.frame.DataFrame'>\n",
      "RangeIndex: 13580 entries, 0 to 13579\n",
      "Data columns (total 21 columns):\n",
      " #   Column         Non-Null Count  Dtype  \n",
      "---  ------         --------------  -----  \n",
      " 0   Suburb         13580 non-null  object \n",
      " 1   Address        13580 non-null  object \n",
      " 2   Rooms          13580 non-null  int64  \n",
      " 3   Type           13580 non-null  object \n",
      " 4   Price          13580 non-null  float64\n",
      " 5   Method         13580 non-null  object \n",
      " 6   SellerG        13580 non-null  object \n",
      " 7   Date           13580 non-null  object \n",
      " 8   Distance       13580 non-null  float64\n",
      " 9   Postcode       13580 non-null  float64\n",
      " 10  Bedroom2       13580 non-null  float64\n",
      " 11  Bathroom       13580 non-null  float64\n",
      " 12  Car            13518 non-null  float64\n",
      " 13  Landsize       13580 non-null  float64\n",
      " 14  BuildingArea   7130 non-null   float64\n",
      " 15  YearBuilt      8205 non-null   float64\n",
      " 16  CouncilArea    12211 non-null  object \n",
      " 17  Lattitude      13580 non-null  float64\n",
      " 18  Longtitude     13580 non-null  float64\n",
      " 19  Regionname     13580 non-null  object \n",
      " 20  Propertycount  13580 non-null  float64\n",
      "dtypes: float64(12), int64(1), object(8)\n",
      "memory usage: 2.2+ MB\n"
     ]
    }
   ],
   "source": [
    "df=pd.read_csv('melb_data.csv')\n",
    "df.info()"
   ]
  },
  {
   "cell_type": "markdown",
   "id": "trying-denmark",
   "metadata": {},
   "source": [
    "### Removing roes containce null(NaN) values "
   ]
  },
  {
   "cell_type": "code",
   "execution_count": 12,
   "id": "sophisticated-marketing",
   "metadata": {},
   "outputs": [
    {
     "name": "stdout",
     "output_type": "stream",
     "text": [
      "<class 'pandas.core.frame.DataFrame'>\n",
      "Int64Index: 6196 entries, 1 to 12212\n",
      "Data columns (total 21 columns):\n",
      " #   Column         Non-Null Count  Dtype  \n",
      "---  ------         --------------  -----  \n",
      " 0   Suburb         6196 non-null   object \n",
      " 1   Address        6196 non-null   object \n",
      " 2   Rooms          6196 non-null   int64  \n",
      " 3   Type           6196 non-null   object \n",
      " 4   Price          6196 non-null   float64\n",
      " 5   Method         6196 non-null   object \n",
      " 6   SellerG        6196 non-null   object \n",
      " 7   Date           6196 non-null   object \n",
      " 8   Distance       6196 non-null   float64\n",
      " 9   Postcode       6196 non-null   float64\n",
      " 10  Bedroom2       6196 non-null   float64\n",
      " 11  Bathroom       6196 non-null   float64\n",
      " 12  Car            6196 non-null   float64\n",
      " 13  Landsize       6196 non-null   float64\n",
      " 14  BuildingArea   6196 non-null   float64\n",
      " 15  YearBuilt      6196 non-null   float64\n",
      " 16  CouncilArea    6196 non-null   object \n",
      " 17  Lattitude      6196 non-null   float64\n",
      " 18  Longtitude     6196 non-null   float64\n",
      " 19  Regionname     6196 non-null   object \n",
      " 20  Propertycount  6196 non-null   float64\n",
      "dtypes: float64(12), int64(1), object(8)\n",
      "memory usage: 1.0+ MB\n"
     ]
    }
   ],
   "source": [
    "df=df.dropna(axis=0)\n",
    "df.info()"
   ]
  },
  {
   "cell_type": "markdown",
   "id": "absolute-fruit",
   "metadata": {},
   "source": [
    "### splitting data into Train and Test values"
   ]
  },
  {
   "cell_type": "code",
   "execution_count": 28,
   "id": "included-olympus",
   "metadata": {},
   "outputs": [],
   "source": [
    "# storing values in X(features) and y(values)\n",
    "y=df.Price\n",
    "features=['Rooms', 'Bathroom', 'Landsize', 'Lattitude', 'Longtitude','YearBuilt']\n",
    "X=df[features]\n",
    "\n",
    "#using train_test_split\n",
    "Xtrain,Xtest,ytrain,ytest=train_test_split(X,y,random_state=0)\n"
   ]
  },
  {
   "cell_type": "markdown",
   "id": "searching-roommate",
   "metadata": {},
   "source": [
    "### Using Decision tree"
   ]
  },
  {
   "cell_type": "code",
   "execution_count": 29,
   "id": "great-tenant",
   "metadata": {},
   "outputs": [
    {
     "data": {
      "text/plain": [
       "281573.99612653325"
      ]
     },
     "execution_count": 29,
     "metadata": {},
     "output_type": "execute_result"
    }
   ],
   "source": [
    "dec_tree=DecisionTreeRegressor(random_state=0)\n",
    "dec_tree.fit(Xtrain,ytrain)\n",
    "pred=dec_tree.predict(Xtest)\n",
    "mae=mean_absolute_error(ytest,pred)\n",
    "mae"
   ]
  },
  {
   "cell_type": "markdown",
   "id": "underlying-vatican",
   "metadata": {},
   "source": [
    "### Using the argument  max_leaf_nodes in Decision Tree"
   ]
  },
  {
   "cell_type": "code",
   "execution_count": 34,
   "id": "stuck-procurement",
   "metadata": {},
   "outputs": [],
   "source": [
    "def get_mae(max_leaf_nodes,Xtrain,Xtest,ytrain,ytest):\n",
    "    model=DecisionTreeRegressor(max_leaf_nodes=max_leaf_nodes,random_state=1)\n",
    "    model.fit(Xtrain,ytrain)\n",
    "    prediction=model.predict(Xtest)\n",
    "    mae=mean_absolute_error(ytest,prediction)\n",
    "    return mae"
   ]
  },
  {
   "cell_type": "code",
   "execution_count": 45,
   "id": "pretty-binding",
   "metadata": {},
   "outputs": [
    {
     "name": "stdout",
     "output_type": "stream",
     "text": [
      "{321478: 10, 262778: 50, 257923: 100, 245010: 500, 244319: 550, 245207: 600, 245359: 650, 246327: 750, 249576: 1000, 255494: 50000}\n",
      "the value of max_leaf_nodes is: 550\n"
     ]
    }
   ],
   "source": [
    "Xtrain,Xtest,ytrain,ytest=train_test_split(X,y,random_state=1)\n",
    "max_leaf_nodes=[10,50,100,500,550,600,650,750,1000,50000]\n",
    "dic={}\n",
    "for max_leaf in max_leaf_nodes:\n",
    "    new_mae=get_mae(max_leaf,Xtrain,Xtest,ytrain,ytest)\n",
    "    dic[round(new_mae)]=max_leaf\n",
    "print(dic)\n",
    "new_max_leaf_nodes=dic[min(dic.keys())]\n",
    "print(\"the value of max_leaf_nodes is:\",new_max_leaf_nodes)"
   ]
  },
  {
   "cell_type": "markdown",
   "id": "fifteen-afternoon",
   "metadata": {},
   "source": [
    "### Applying the max_leaf_nodes "
   ]
  },
  {
   "cell_type": "code",
   "execution_count": 46,
   "id": "damaged-order",
   "metadata": {},
   "outputs": [
    {
     "data": {
      "text/plain": [
       "DecisionTreeRegressor(max_leaf_nodes=550, random_state=1)"
      ]
     },
     "execution_count": 46,
     "metadata": {},
     "output_type": "execute_result"
    }
   ],
   "source": [
    "final=DecisionTreeRegressor(max_leaf_nodes=new_max_leaf_nodes,random_state=1)\n",
    "final.fit(X,y)\n"
   ]
  },
  {
   "cell_type": "markdown",
   "id": "defined-andorra",
   "metadata": {},
   "source": [
    "   # Congratz You compleated your first ML model"
   ]
  },
  {
   "cell_type": "markdown",
   "id": "australian-doctor",
   "metadata": {},
   "source": [
    "<t>"
   ]
  },
  {
   "cell_type": "markdown",
   "id": "brief-purple",
   "metadata": {},
   "source": [
    "<t>"
   ]
  },
  {
   "cell_type": "markdown",
   "id": "agreed-momentum",
   "metadata": {},
   "source": [
    "<t>"
   ]
  },
  {
   "cell_type": "markdown",
   "id": "fewer-aside",
   "metadata": {},
   "source": [
    "### Random forest"
   ]
  },
  {
   "cell_type": "markdown",
   "id": "minimal-charter",
   "metadata": {},
   "source": [
    "\n",
    "\n",
    "<font color='green'>from </font>sklearn.ensemble <font color='green'>import </font>  RandomForestRegressor\n",
    "\n",
    "we dont need to specify max_leaf_nodes here\n"
   ]
  },
  {
   "cell_type": "code",
   "execution_count": 54,
   "id": "normal-moderator",
   "metadata": {},
   "outputs": [
    {
     "data": {
      "text/plain": [
       "184929"
      ]
     },
     "execution_count": 54,
     "metadata": {},
     "output_type": "execute_result"
    }
   ],
   "source": [
    "rand_reg=RandomForestRegressor(random_state=1)\n",
    "rand_reg.fit(Xtrain,ytrain)\n",
    "pred=rand_reg.predict(Xtest)\n",
    "mae=mean_absolute_error(ytest,pred)\n",
    "round(mae)"
   ]
  },
  {
   "cell_type": "markdown",
   "id": "backed-brake",
   "metadata": {},
   "source": [
    "<div class=\"alert alert-block alert-info\">\n",
    "<h3><font color='#27cf54'>Note that the Mean Absolute Error is 184929 for Random forest , But for Decision Tree it was 244319</font></h3>     \n",
    "    \n",
    "\n",
    "    \n",
    "</div>"
   ]
  },
  {
   "cell_type": "code",
   "execution_count": null,
   "id": "dedicated-preference",
   "metadata": {},
   "outputs": [],
   "source": []
  }
 ],
 "metadata": {
  "kernelspec": {
   "display_name": "Python 3",
   "language": "python",
   "name": "python3"
  },
  "language_info": {
   "codemirror_mode": {
    "name": "ipython",
    "version": 3
   },
   "file_extension": ".py",
   "mimetype": "text/x-python",
   "name": "python",
   "nbconvert_exporter": "python",
   "pygments_lexer": "ipython3",
   "version": "3.8.5"
  }
 },
 "nbformat": 4,
 "nbformat_minor": 5
}
