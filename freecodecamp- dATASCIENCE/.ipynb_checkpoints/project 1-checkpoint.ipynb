{
 "cells": [
  {
   "cell_type": "code",
   "execution_count": 1,
   "id": "weighted-times",
   "metadata": {},
   "outputs": [],
   "source": [
    "import numpy as np"
   ]
  },
  {
   "cell_type": "code",
   "execution_count": 131,
   "id": "dramatic-colony",
   "metadata": {},
   "outputs": [],
   "source": [
    "def calculate(list_elements) :\n",
    "    dic={}\n",
    "    try:\n",
    "        temp=np.array(list_elements)\n",
    "        a=temp.reshape(3,3)\n",
    "    except ValueError:\n",
    "        raise ValueError('List must contain nine numbers.')\n",
    "    \n",
    "    #mean\n",
    "    def meann(a):\n",
    "        ax1=list(a.mean(axis=0))\n",
    "        ax2=list(a.mean(axis=1))\n",
    "        ax3=a.mean()\n",
    "        meann=[ax1,ax2,ax3]\n",
    "        return meann\n",
    "        \n",
    "    \n",
    "    \n",
    "    #variance\n",
    "    def variance(a):\n",
    "        ax1=list(a.var(axis=0))\n",
    "        ax2=list(a.var(axis=1))\n",
    "        ax3=a.var()\n",
    "        vari=[ax1,ax2,ax3]\n",
    "        return vari\n",
    "    \n",
    "    \n",
    "    #std deviation\n",
    "    def stdd(a):\n",
    "        ax1=list(a.std(axis=0))\n",
    "        ax2=list(a.std(axis=1))\n",
    "        ax3=a.std()\n",
    "        stdd=[ax1,ax2,ax3]\n",
    "        return stdd\n",
    "    \n",
    "    #max\n",
    "    def maxx(a):\n",
    "        ax1=list(a.max(axis=0))\n",
    "        ax2=list(a.max(axis=1))\n",
    "        ax3=a.max()\n",
    "        maxx=[ax1,ax2,ax3]\n",
    "        return maxx\n",
    "    \n",
    "    \n",
    "    #min\n",
    "    def minn(a):\n",
    "        ax1=list(a.min(axis=0))\n",
    "        ax2=list(a.min(axis=1))\n",
    "        ax3=a.min()\n",
    "        minn=[ax1,ax2,ax3]\n",
    "        return minn\n",
    "    \n",
    "    #sum\n",
    "    def summ(a):\n",
    "        ax1=list(a.sum(axis=0))\n",
    "        ax2=list(a.sum(axis=1))\n",
    "        ax3=a.sum()\n",
    "        summ=[ax1,ax2,ax3]\n",
    "        return summ\n",
    "    \n",
    "    \n",
    "    dic['mean']=meann(a)\n",
    "    dic['variance']=variance(a)\n",
    "    dic['standard deviation']=stdd(a)\n",
    "    dic['max']=maxx(a)\n",
    "    dic['min']=minn(a)\n",
    "    dic['sum']=summ(a)\n",
    "    return dic\n",
    "    \n",
    "    "
   ]
  },
  {
   "cell_type": "code",
   "execution_count": null,
   "id": "italic-secondary",
   "metadata": {},
   "outputs": [],
   "source": []
  },
  {
   "cell_type": "code",
   "execution_count": 133,
   "id": "opposed-grounds",
   "metadata": {},
   "outputs": [
    {
     "data": {
      "text/plain": [
       "{'mean': [[3.0, 4.0, 5.0], [1.0, 4.0, 7.0], 4.0],\n",
       " 'variance': [[6.0, 6.0, 6.0],\n",
       "  [0.6666666666666666, 0.6666666666666666, 0.6666666666666666],\n",
       "  6.666666666666667],\n",
       " 'standard deviation': [[2.449489742783178,\n",
       "   2.449489742783178,\n",
       "   2.449489742783178],\n",
       "  [0.816496580927726, 0.816496580927726, 0.816496580927726],\n",
       "  2.581988897471611],\n",
       " 'max': [[6, 7, 8], [2, 5, 8], 8],\n",
       " 'min': [[0, 1, 2], [0, 3, 6], 0],\n",
       " 'sum': [[9, 12, 15], [3, 12, 21], 36]}"
      ]
     },
     "execution_count": 133,
     "metadata": {},
     "output_type": "execute_result"
    }
   ],
   "source": [
    "c=[0,1,2,3,4,5,6,7,8]\n",
    "calculate(c)"
   ]
  },
  {
   "cell_type": "code",
   "execution_count": 114,
   "id": "animal-investigator",
   "metadata": {},
   "outputs": [
    {
     "name": "stdout",
     "output_type": "stream",
     "text": [
      "{'mean': [[3.0, 4.0, 5.0], [1.0, 4.0, 7.0], 4.0], 'variance': [[6.0, 6.0, 6.0], [0.6666666666666666, 0.6666666666666666, 0.6666666666666666], 6.666666666666667], 'standard deviation': [[2.449489742783178, 2.449489742783178, 2.449489742783178], [0.816496580927726, 0.816496580927726, 0.816496580927726], 2.581988897471611], 'max': [[6, 7, 8], [2, 5, 8], 8], 'min': [[0, 1, 2], [0, 3, 6], 0], 'sum': [[9, 12, 15], [3, 12, 21], 36]}\n"
     ]
    }
   ],
   "source": [
    "c=[0,1,2,3,4,5,6,7,8]\n",
    "print(calculate(c))"
   ]
  },
  {
   "cell_type": "code",
   "execution_count": null,
   "id": "herbal-dependence",
   "metadata": {},
   "outputs": [],
   "source": []
  }
 ],
 "metadata": {
  "kernelspec": {
   "display_name": "Python 3",
   "language": "python",
   "name": "python3"
  },
  "language_info": {
   "codemirror_mode": {
    "name": "ipython",
    "version": 3
   },
   "file_extension": ".py",
   "mimetype": "text/x-python",
   "name": "python",
   "nbconvert_exporter": "python",
   "pygments_lexer": "ipython3",
   "version": "3.8.5"
  }
 },
 "nbformat": 4,
 "nbformat_minor": 5
}
