{
 "cells": [
  {
   "cell_type": "markdown",
   "metadata": {},
   "source": [
    "# Natural Language Processing\n",
    "\n",
    "## Generating Quiz from a given text"
   ]
  },
  {
   "cell_type": "code",
   "execution_count": 5,
   "metadata": {
    "scrolled": true
   },
   "outputs": [],
   "source": [
    "from textblob import TextBlob"
   ]
  },
  {
   "cell_type": "code",
   "execution_count": 3,
   "metadata": {
    "collapsed": true
   },
   "outputs": [],
   "source": [
    "# f = open('filename')\n",
    "# ww2 = f.read()\n",
    "# or\n",
    "\n",
    "ww2 = '''\n",
    "World War II (often abbreviated to WWII or WW2), also known as the Second World War, was a global war that lasted from 1939 to 1945, although related conflicts began earlier. It involved the vast majority of the world's countries—including all of the great powers—eventually forming two opposing military alliances: the Allies and the Axis. It was the most widespread war in history, and directly involved more than 100 million people from over 30 countries. In a state of total war, the major participants threw their entire economic, industrial, and scientific capabilities behind the war effort, erasing the distinction between civilian and military resources.\n",
    "\n",
    "World War II was the deadliest conflict in human history, marked by 50 million to 85 million fatalities, most of which were civilians in the Soviet Union and China. It included massacres, the deliberate genocide of the Holocaust, strategic bombing, starvation, disease and the first use of nuclear weapons in history.[1][2][3][4]\n",
    "\n",
    "The Empire of Japan aimed to dominate Asia and the Pacific and was already at war with the Republic of China in 1937,[5] but the world war is generally said to have begun on 1 September 1939[6] with the invasion of Poland by Nazi Germany and subsequent declarations of war on Germany by France and the United Kingdom. Supplied by the Soviet Union, from late 1939 to early 1941, in a series of campaigns and treaties, Germany conquered or controlled much of continental Europe, and formed the Axis alliance with Italy and Japan. Under the Molotov–Ribbentrop Pact of August 1939, Germany and the Soviet Union partitioned and annexed territories of their European neighbours, Poland, Finland, Romania and the Baltic states. The war continued primarily between the European Axis powers and the coalition of the United Kingdom and the British Commonwealth, with campaigns including the North Africa and East Africa campaigns, the aerial Battle of Britain, the Blitz bombing campaign, and the Balkan Campaign, as well as the long-running Battle of the Atlantic. On 22 June 1941, the European Axis powers launched an invasion of the Soviet Union, opening the largest land theatre of war in history, which trapped the major part of the Axis military forces into a war of attrition. In December 1941, Japan attacked the United States and European colonies in the Pacific Ocean, and quickly conquered much of the Western Pacific.\n",
    "\n",
    "The Axis advance halted in 1942 when Japan lost the critical Battle of Midway, and Germany and Italy were defeated in North Africa and then, decisively, at Stalingrad in the Soviet Union. In 1943, with a series of German defeats on the Eastern Front, the Allied invasion of Sicily and the Allied invasion of Italy which brought about Italian surrender, and Allied victories in the Pacific, the Axis lost the initiative and undertook strategic retreat on all fronts. In 1944, the Western Allies invaded German-occupied France, while the Soviet Union regained all of its territorial losses and invaded Germany and its allies. During 1944 and 1945 the Japanese suffered major reverses in mainland Asia in South Central China and Burma, while the Allies crippled the Japanese Navy and captured key Western Pacific islands.\n",
    "\n",
    "The war in Europe concluded with an invasion of Germany by the Western Allies and the Soviet Union, culminating in the capture of Berlin by Soviet troops, the suicide of Adolf Hitler and the subsequent German unconditional surrender on 8 May 1945. Following the Potsdam Declaration by the Allies on 26 July 1945 and the refusal of Japan to surrender under its terms, the United States dropped atomic bombs on the Japanese cities of Hiroshima and Nagasaki on 6 August and 9 August respectively. With an invasion of the Japanese archipelago imminent, the possibility of additional atomic bombings and the Soviet invasion of Manchuria, Japan formally surrendered on 2 September 1945. Thus ended the war in Asia, cementing the total victory of the Allies.\n",
    "\n",
    "World War II changed the political alignment and social structure of the world. The United Nations (UN) was established to foster international co-operation and prevent future conflicts. The victorious great powers—China, France, the Soviet Union, the United Kingdom, and the United States—became the permanent members of the United Nations Security Council.[7] The Soviet Union and the United States emerged as rival superpowers, setting the stage for the Cold War, which lasted for the next 46 years. Meanwhile, the influence of European great powers waned, while the decolonisation of Africa and Asia began. Most countries whose industries had been damaged moved towards economic recovery. Political integration, especially in Europe, emerged as an effort to end pre-war enmities and to create a common identity.[8]\n",
    "'''"
   ]
  },
  {
   "cell_type": "code",
   "execution_count": 4,
   "metadata": {},
   "outputs": [
    {
     "name": "stdout",
     "output_type": "stream",
     "text": [
      "\n",
      "____ ____ II (often abbreviated to ____ or ____), also known as the ____ ____ ____, was a global ____ that lasted from 1939 to 1945, although related conflicts began earlier.\n",
      "\n",
      "==================\n",
      "\n",
      "It involved the vast ____ of the ____'s countries—including all of the great powers—eventually forming two opposing military alliances: the Allies and the ____.\n",
      "\n",
      "==================\n",
      "\n",
      "It was the most widespread ____ in ____, and directly involved more than 100 million people from over 30 countries.\n",
      "\n",
      "==================\n",
      "\n",
      "In a state of total ____, the major participants threw their entire economic, industrial, and scientific capabilities behind the ____ ____, erasing the ____ between civilian and military resources.\n",
      "\n",
      "==================\n",
      "\n",
      "World War II was the deadliest ____ in human ____, marked by 50 million to 85 million fatalities, most of which were civilians in the ____ ____ and ____.\n",
      "\n",
      "==================\n",
      "\n",
      "It included massacres, the ____ ____ of the ____, strategic ____, ____, ____ and the first ____ of nuclear weapons in ____.\n",
      "\n",
      "==================\n",
      "\n",
      "____1________2________3________4____\n",
      "\n",
      "The ____ of ____ aimed to dominate ____ and the ____ and was already at ____ with the ____ of ____ in 1937,____5____ but the ____ ____ is generally said to have begun on 1 ____ 1939____6____ with the ____ of ____ by ____ ____ and subsequent declarations of ____ on ____ by ____ and the ____ ____.\n",
      "\n",
      "==================\n",
      "\n",
      "Supplied by the Soviet ____, from late 1939 to early 1941, in a ____ of campaigns and treaties, ____ conquered or controlled much of continental ____, and formed the ____ ____ with ____ and ____.\n",
      "\n",
      "==================\n",
      "\n",
      "Under the Molotov–Ribbentrop Pact of ____ 1939, ____ and the ____ ____ partitioned and annexed territories of their European neighbours, ____, ____, ____ and the ____ states.\n",
      "\n",
      "==================\n",
      "\n",
      "The war continued primarily between the ____ ____ powers and the ____ of the ____ ____ and the British ____, with ____s including the ____ ____ and ____ ____ ____s, the aerial ____ of ____, the ____ ____ ____, and the ____ ____, as well as the long-running ____ of the ____.\n",
      "\n",
      "==================\n",
      "\n",
      "On 22 June 1941, the ____ ____ powers launched an ____ of the ____ ____, opening the largest ____ ____ of ____ in ____, which trapped the major ____ of the ____ military forces into a ____ of ____.\n",
      "\n",
      "==================\n",
      "\n",
      "In December 1941, Japan attacked the ____ States and European colonies in the ____ ____, and quickly conquered much of the ____ ____.\n",
      "\n",
      "==================\n",
      "\n",
      "The Axis advance halted in 1942 when ____ lost the critical ____ of ____, and ____ and ____ were defeated in ____ ____ and then, decisively, at ____ in the ____ ____.\n",
      "\n",
      "==================\n",
      "\n",
      "In 1943, with a ____ of German defeats on the ____ ____, the ____ ____ of ____ and the ____ ____ of ____ which brought about Italian ____, and ____ victories in the ____, the ____ lost the ____ and undertook strategic ____ on all fronts.\n",
      "\n",
      "==================\n",
      "\n",
      "In 1944, the Western Allies invaded German-occupied ____, while the ____ ____ regained all of its territorial losses and invaded ____ and its allies.\n",
      "\n",
      "==================\n",
      "\n",
      "During 1944 and 1945 the Japanese suffered major reverses in ____ ____ in ____ ____ ____ and ____, while the Allies crippled the Japanese ____ and captured key ____ ____ islands.\n",
      "\n",
      "==================\n",
      "\n",
      "The war in Europe concluded with an ____ of ____ by the Western Allies and the ____ ____, culminating in the ____ of ____ by ____ troops, the ____ of ____ ____ and the subsequent German unconditional ____ on 8 ____ 1945.\n",
      "\n",
      "==================\n",
      "\n",
      "Following the Potsdam Declaration by the Allies on 26 ____ 1945 and the ____ of ____ to surrender under its terms, the ____ States dropped atomic bombs on the ____ese cities of ____ and ____ on 6 ____ and 9 ____ respectively.\n",
      "\n",
      "==================\n",
      "\n",
      "With an ____ of the ____ese archipelago ____, the ____ of additional atomic bombings and the Soviet ____ of ____, ____ formally surrendered on 2 ____ 1945.\n",
      "\n",
      "==================\n",
      "\n",
      "Thus ended the war in ____, cementing the total ____ of the Allies.\n",
      "\n",
      "==================\n",
      "\n",
      "World War II changed the political ____ and social ____ of the ____.\n",
      "\n",
      "==================\n",
      "\n",
      "The United Nations (UN) was established to foster international ____ and ____ ____ conflicts.\n",
      "\n",
      "==================\n",
      "\n",
      "The victorious great powers—China, ____, the ____ ____, the ____ ____, and the ____ ____ the permanent members of the ____ ____ ____ ____.\n",
      "\n",
      "==================\n",
      "\n",
      "[7] The ____ ____ and the ____ States emerged as rival superpowers, setting the ____ for the ____ ____, which lasted for the next 46 years.\n",
      "\n",
      "==================\n",
      "\n",
      "Meanwhile, the influence of European great powers waned, while the ____ of ____ and ____ began.\n",
      "\n",
      "==================\n",
      "\n",
      "Most countries whose industries had been damaged moved towards economic ____.\n",
      "\n",
      "==================\n",
      "\n",
      "Political integration, especially in ____, emerged as an ____ to end pre-war enmities and to create a common ____.\n",
      "\n",
      "==================\n",
      "\n",
      "[8]\n",
      "\n",
      "==================\n",
      "\n"
     ]
    }
   ],
   "source": [
    "ww2b = TextBlob(ww2)\n",
    "for sentence in ww2b.sentences:\n",
    "    new_sentence = sentence\n",
    "    for index, tag in enumerate(sentence.tags):\n",
    "        if tag[1] in ('NN', 'NNP') and index > 3:\n",
    "            new_sentence = new_sentence.replace(tag[0], \"____\") \n",
    "    print(new_sentence)\n",
    "    print(\"\\n==================\\n\")"
   ]
  },
  {
   "cell_type": "markdown",
   "metadata": {},
   "source": [
    "##  Finding Related Posts\n"
   ]
  },
  {
   "cell_type": "markdown",
   "metadata": {},
   "source": [
    "We are given the task of finding the most related posts from a bunch of posts. \n",
    "\n",
    "How we will find similarity between posts?\n",
    "\n",
    "The tricky thing that we have to tackle  first is how to turn text into something on which we can calculate similarity."
   ]
  },
  {
   "cell_type": "markdown",
   "metadata": {},
   "source": [
    "### How to do it\n",
    "\n",
    "+ **Bag of Word**\n",
    "\n",
    "It totally ignores the order of words and simply uses word counts as their basis.\n",
    "\n",
    "##### Vectorization\n",
    "For each word in the post, its occurrence is counted and noted in a vector. This step is also called vectorization. The vector is typically huge as it contains as many elements as words occur in the whole dataset."
   ]
  },
  {
   "cell_type": "markdown",
   "metadata": {},
   "source": [
    "|Word  | Occurence in post 1 | Occurence in post 2|\n",
    "|------|---------------------|--------------------|\n",
    "|disk  |            1        |          1         |\n",
    "|format|     1               |           1        |\n",
    "|how   |1                    | 0 |\n",
    "|hard| 1| 1|\n",
    "|my |1 |0|\n",
    "|problems| 0| 1|\n",
    "|to| 1| 0|"
   ]
  },
  {
   "cell_type": "markdown",
   "metadata": {},
   "source": [
    "We can simply calculate the **Euclidean distance** between the vectors of all posts and take the nearest one, it will be too slow."
   ]
  },
  {
   "cell_type": "markdown",
   "metadata": {},
   "source": [
    "### Vectorization -  Converting raw text into a bag of words \n",
    "\n",
    "\n"
   ]
  },
  {
   "cell_type": "code",
   "execution_count": 5,
   "metadata": {
    "collapsed": true
   },
   "outputs": [],
   "source": [
    "from sklearn.feature_extraction.text import CountVectorizer"
   ]
  },
  {
   "cell_type": "code",
   "execution_count": 6,
   "metadata": {
    "collapsed": true
   },
   "outputs": [],
   "source": [
    "vectorizer = CountVectorizer(min_df=1)"
   ]
  },
  {
   "cell_type": "markdown",
   "metadata": {},
   "source": [
    "The **min_df parameter** determines how CountVectorizer treats seldom words\n",
    "(minimum document frequency).\n",
    "+ If it is set to an integer, all words occurring less than that value will be dropped\n",
    "+ If it is a fraction, all words that occur in less than that fraction of the overall dataset will be dropped. \n",
    "\n",
    "The max_df parameter works in a similar manner."
   ]
  },
  {
   "cell_type": "code",
   "execution_count": 7,
   "metadata": {
    "collapsed": true
   },
   "outputs": [],
   "source": [
    "content = [\"How to format my hard disk\", \" Hard disk format problems \"]"
   ]
  },
  {
   "cell_type": "code",
   "execution_count": 8,
   "metadata": {
    "collapsed": true
   },
   "outputs": [],
   "source": [
    "X = vectorizer.fit_transform(content)"
   ]
  },
  {
   "cell_type": "code",
   "execution_count": 9,
   "metadata": {},
   "outputs": [
    {
     "data": {
      "text/plain": [
       "['disk', 'format', 'hard', 'how', 'my', 'problems', 'to']"
      ]
     },
     "execution_count": 9,
     "metadata": {},
     "output_type": "execute_result"
    }
   ],
   "source": [
    "vectorizer.get_feature_names()"
   ]
  },
  {
   "cell_type": "code",
   "execution_count": 10,
   "metadata": {},
   "outputs": [
    {
     "name": "stdout",
     "output_type": "stream",
     "text": [
      "[[1 1]\n",
      " [1 1]\n",
      " [1 1]\n",
      " [1 0]\n",
      " [1 0]\n",
      " [0 1]\n",
      " [1 0]]\n"
     ]
    }
   ],
   "source": [
    "print(X.toarray().transpose())"
   ]
  },
  {
   "cell_type": "markdown",
   "metadata": {},
   "source": [
    "This means that the first sentence contains all the words except \"problems\", while\n",
    "the second contains all but \"how\", \"my\", and \"to\". In fact, these are exactly the same\n",
    "columns as we have seen in the preceding table. From X, we can extract a feature\n",
    "vector that we will use to compare two documents with each other."
   ]
  },
  {
   "cell_type": "markdown",
   "metadata": {},
   "source": [
    "Lets consider toy posts"
   ]
  },
  {
   "cell_type": "code",
   "execution_count": 11,
   "metadata": {
    "collapsed": true
   },
   "outputs": [],
   "source": [
    "post1 = \"This is a toy post about machine learning. Actually, it contains not much interesting stuff.\"\n",
    "post2 = \"Imaging databases can get huge.\"\n",
    "post3 = \"Most imaging databases save images permanently.\"\n",
    "post4 = \"Imaging databases store images.\"\n",
    "post5 = \"Imaging databases store images. Imaging databases store images. Imaging databases store images.\""
   ]
  },
  {
   "cell_type": "markdown",
   "metadata": {},
   "source": [
    "Now we will train our vectorizer"
   ]
  },
  {
   "cell_type": "code",
   "execution_count": 12,
   "metadata": {
    "collapsed": true
   },
   "outputs": [],
   "source": [
    "from sklearn.feature_extraction.text import CountVectorizer\n",
    "vectorizer = CountVectorizer(min_df=1)\n",
    "\n",
    "posts = [post1, post2, post3, post4, post5]\n",
    "\n",
    "X_train = vectorizer.fit_transform(posts)"
   ]
  },
  {
   "cell_type": "code",
   "execution_count": 13,
   "metadata": {
    "collapsed": true
   },
   "outputs": [],
   "source": [
    "num_samples, num_features = X_train.shape"
   ]
  },
  {
   "cell_type": "code",
   "execution_count": 14,
   "metadata": {},
   "outputs": [
    {
     "name": "stdout",
     "output_type": "stream",
     "text": [
      "#samples: 5, #features: 24\n"
     ]
    }
   ],
   "source": [
    "print(\"#samples: %d, #features: %d\" % (num_samples,\n",
    "num_features))"
   ]
  },
  {
   "cell_type": "code",
   "execution_count": 15,
   "metadata": {},
   "outputs": [
    {
     "name": "stdout",
     "output_type": "stream",
     "text": [
      "24\n"
     ]
    }
   ],
   "source": [
    "print(len(vectorizer.get_feature_names()))"
   ]
  },
  {
   "cell_type": "code",
   "execution_count": 16,
   "metadata": {
    "collapsed": true
   },
   "outputs": [],
   "source": [
    "new_post = \"imaging databases\""
   ]
  },
  {
   "cell_type": "code",
   "execution_count": 17,
   "metadata": {},
   "outputs": [
    {
     "data": {
      "text/plain": [
       "array([[0, 0, 0, 0, 1, 0, 0, 0, 1, 0, 0, 0, 0, 0, 0, 0, 0, 0, 0, 0, 0, 0,\n",
       "        0, 0]])"
      ]
     },
     "execution_count": 17,
     "metadata": {},
     "output_type": "execute_result"
    }
   ],
   "source": [
    "new_post_vec = vectorizer.transform([new_post])\n",
    "new_post_vec.toarray()"
   ]
  },
  {
   "cell_type": "markdown",
   "metadata": {},
   "source": [
    "Now let us define a function for finding the distance between two vectors. It\n",
    "will firt normalize the vectors and then find the distance between them."
   ]
  },
  {
   "cell_type": "code",
   "execution_count": 18,
   "metadata": {
    "collapsed": true
   },
   "outputs": [],
   "source": [
    "def dist_norm(v1, v2):\n",
    "    v1_normalized = v1/sp.linalg.norm(v1.toarray())\n",
    "    v2_normalized = v2/sp.linalg.norm(v2.toarray())\n",
    "    delta = v1_normalized - v2_normalized\n",
    "    return sp.linalg.norm(delta.toarray())"
   ]
  },
  {
   "cell_type": "code",
   "execution_count": 19,
   "metadata": {},
   "outputs": [
    {
     "name": "stdout",
     "output_type": "stream",
     "text": [
      "=== Post 0 with dist=1.41: This is a toy post about machine learning. Actually, it contains not much interesting stuff.\n",
      "=== Post 1 with dist=0.86: Imaging databases can get huge.\n",
      "=== Post 2 with dist=0.92: Most imaging databases save images permanently.\n",
      "=== Post 3 with dist=0.77: Imaging databases store images.\n",
      "=== Post 4 with dist=0.77: Imaging databases store images. Imaging databases store images. Imaging databases store images.\n",
      "Best post is 3 with dist=0.77\n"
     ]
    }
   ],
   "source": [
    "import sys\n",
    "import scipy as sp\n",
    "best_doc = None\n",
    "best_dist = sys.maxsize\n",
    "best_i = None\n",
    "for i, post in enumerate(posts):\n",
    "    post_vec = X_train.getrow(i)\n",
    "    d = dist_norm(post_vec, new_post_vec)\n",
    "    print(\"=== Post %i with dist=%.2f: %s\"%(i, d, post))\n",
    "    if d<best_dist:\n",
    "        best_dist = d\n",
    "        best_i = i\n",
    "print(\"Best post is %i with dist=%.2f\"%(best_i, best_dist))"
   ]
  },
  {
   "cell_type": "code",
   "execution_count": null,
   "metadata": {
    "collapsed": true
   },
   "outputs": [],
   "source": []
  }
 ],
 "metadata": {
  "kernelspec": {
   "display_name": "Python 3",
   "language": "python",
   "name": "python3"
  },
  "language_info": {
   "codemirror_mode": {
    "name": "ipython",
    "version": 3
   },
   "file_extension": ".py",
   "mimetype": "text/x-python",
   "name": "python",
   "nbconvert_exporter": "python",
   "pygments_lexer": "ipython3",
   "version": "3.6.3"
  }
 },
 "nbformat": 4,
 "nbformat_minor": 2
}
