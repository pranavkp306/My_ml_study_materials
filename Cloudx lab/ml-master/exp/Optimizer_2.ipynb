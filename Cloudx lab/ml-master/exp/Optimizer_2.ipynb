{
 "cells": [
  {
   "cell_type": "code",
   "execution_count": 6,
   "metadata": {},
   "outputs": [],
   "source": [
    "# Python ≥3.5 is required\n",
    "import sys\n",
    "assert sys.version_info >= (3, 5)\n",
    "\n",
    "# Scikit-Learn ≥0.20 is required\n",
    "import sklearn\n",
    "assert sklearn.__version__ >= \"0.20\"\n",
    "\n",
    "try:\n",
    "    # %tensorflow_version only exists in Colab.\n",
    "    %tensorflow_version 2.x\n",
    "except Exception:\n",
    "    pass\n",
    "\n",
    "# TensorFlow ≥2.0 is required\n",
    "import tensorflow as tf\n",
    "from tensorflow import keras\n",
    "assert tf.__version__ >= \"2.0\"\n",
    "\n",
    "# Common imports\n",
    "import numpy as np\n",
    "import os\n",
    "\n",
    "# to make this notebook's output stable across runs\n",
    "np.random.seed(42)\n",
    "tf.random.set_seed(42)\n",
    "\n",
    "# To plot pretty figures\n",
    "%matplotlib inline\n",
    "import matplotlib as mpl\n",
    "import matplotlib.pyplot as plt\n",
    "mpl.rc('axes', labelsize=14)\n",
    "mpl.rc('xtick', labelsize=12)\n",
    "mpl.rc('ytick', labelsize=12)"
   ]
  },
  {
   "cell_type": "code",
   "execution_count": 7,
   "metadata": {},
   "outputs": [],
   "source": [
    "from sklearn.datasets import fetch_california_housing\n",
    "from sklearn.model_selection import train_test_split\n",
    "from sklearn.preprocessing import StandardScaler\n",
    "\n",
    "housing = fetch_california_housing()\n",
    "X_train_full, X_test, y_train_full, y_test = train_test_split(\n",
    "    housing.data, housing.target.reshape(-1, 1), random_state=42)\n",
    "X_train, X_valid, y_train, y_valid = train_test_split(\n",
    "    X_train_full, y_train_full, random_state=42)\n",
    "\n",
    "scaler = StandardScaler()\n",
    "X_train_scaled = scaler.fit_transform(X_train)\n",
    "X_valid_scaled = scaler.transform(X_valid)\n",
    "X_test_scaled = scaler.transform(X_test)"
   ]
  },
  {
   "cell_type": "code",
   "execution_count": 8,
   "metadata": {},
   "outputs": [],
   "source": [
    "X_new_scaled = X_test_scaled"
   ]
  },
  {
   "cell_type": "code",
   "execution_count": 93,
   "metadata": {},
   "outputs": [],
   "source": [
    "class MySGDOptimizer(keras.optimizers.Optimizer):\n",
    "    def __init__(self, learning_rate=0.001, momentum=0.9, name=\"MySGDOptimizer\", **kwargs):\n",
    "        \"\"\"Call super().__init__() and use _set_hyper() to store hyperparameters\"\"\"\n",
    "        super().__init__(name, **kwargs)\n",
    "        self._set_hyper(\"learning_rate\", kwargs.get(\"lr\", learning_rate)) # handle lr=learning_rate\n",
    "        self._set_hyper(\"decay\", self._initial_decay) # \n",
    "        self._set_hyper(\"momentum\", momentum)\n",
    "    \n",
    "    def _create_slots(self, var_list):\n",
    "        \"\"\"For each model variable, create the optimizer variable associated with it.\n",
    "        TensorFlow calls these optimizer variables \"slots\".\n",
    "        For momentum optimization, we need one momentum slot per model variable.\n",
    "        \"\"\"\n",
    "        for var in var_list:\n",
    "            self.add_slot(var, \"momentum\")\n",
    "\n",
    "    @tf.function\n",
    "    def _resource_apply_dense(self, grad, var):\n",
    "        \"\"\"Update the slots and perform one optimization step for one model variable\n",
    "        \"\"\"\n",
    "        var_dtype = var.dtype.base_dtype\n",
    "        lr_t = self._decayed_lr(var_dtype) # handle learning rate decay\n",
    "#         momentum_var = self.get_slot(var, \"momentum\")\n",
    "#         momentum_hyper = self._get_hyper(\"momentum\", var_dtype)\n",
    "#         momentum_var.assign(momentum_var * momentum_hyper - (1. - momentum_hyper)* grad)\n",
    "        var.assign_sub(grad * lr_t)\n",
    "\n",
    "    def _resource_apply_sparse(self, grad, var):\n",
    "        raise NotImplementedError\n",
    "\n",
    "    def get_config(self):\n",
    "        base_config = super().get_config()\n",
    "        return {\n",
    "            **base_config,\n",
    "            \"learning_rate\": self._serialize_hyperparameter(\"learning_rate\"),\n",
    "            \"decay\": self._serialize_hyperparameter(\"decay\"),\n",
    "            \"momentum\": self._serialize_hyperparameter(\"momentum\"),\n",
    "        }"
   ]
  },
  {
   "cell_type": "code",
   "execution_count": 94,
   "metadata": {},
   "outputs": [],
   "source": [
    "keras.backend.clear_session()\n",
    "np.random.seed(42)\n",
    "tf.random.set_seed(42)"
   ]
  },
  {
   "cell_type": "code",
   "execution_count": 96,
   "metadata": {},
   "outputs": [
    {
     "name": "stdout",
     "output_type": "stream",
     "text": [
      "Train on 11610 samples\n",
      "Epoch 1/20\n",
      "11610/11610 [==============================] - 1s 81us/sample - loss: 3.9043\n",
      "Epoch 2/20\n",
      "11610/11610 [==============================] - 0s 38us/sample - loss: 1.5243\n",
      "Epoch 3/20\n",
      "11610/11610 [==============================] - 0s 37us/sample - loss: 1.0021\n",
      "Epoch 4/20\n",
      "11610/11610 [==============================] - 0s 37us/sample - loss: 0.8606\n",
      "Epoch 5/20\n",
      "11610/11610 [==============================] - 0s 38us/sample - loss: 0.8038\n",
      "Epoch 6/20\n",
      "11610/11610 [==============================] - 0s 38us/sample - loss: 0.7715\n",
      "Epoch 7/20\n",
      "11610/11610 [==============================] - 0s 39us/sample - loss: 0.7457\n",
      "Epoch 8/20\n",
      "11610/11610 [==============================] - 0s 40us/sample - loss: 0.7228\n",
      "Epoch 9/20\n",
      "11610/11610 [==============================] - 0s 40us/sample - loss: 0.7012\n",
      "Epoch 10/20\n",
      "11610/11610 [==============================] - 0s 41us/sample - loss: 0.6834\n",
      "Epoch 11/20\n",
      "11610/11610 [==============================] - 0s 43us/sample - loss: 0.6681\n",
      "Epoch 12/20\n",
      "11610/11610 [==============================] - 0s 40us/sample - loss: 0.6529\n",
      "Epoch 13/20\n",
      "11610/11610 [==============================] - 0s 42us/sample - loss: 0.6394\n",
      "Epoch 14/20\n",
      "11610/11610 [==============================] - 0s 41us/sample - loss: 0.6280\n",
      "Epoch 15/20\n",
      "11610/11610 [==============================] - 0s 41us/sample - loss: 0.6175\n",
      "Epoch 16/20\n",
      "11610/11610 [==============================] - 0s 38us/sample - loss: 0.6091\n",
      "Epoch 17/20\n",
      "11610/11610 [==============================] - 0s 38us/sample - loss: 0.5996\n",
      "Epoch 18/20\n",
      "11610/11610 [==============================] - 0s 38us/sample - loss: 0.5928\n",
      "Epoch 19/20\n",
      "11610/11610 [==============================] - 0s 38us/sample - loss: 0.5862\n",
      "Epoch 20/20\n",
      "11610/11610 [==============================] - 0s 38us/sample - loss: 0.5782\n"
     ]
    },
    {
     "data": {
      "text/plain": [
       "<tensorflow.python.keras.callbacks.History at 0x7fcac81d26d8>"
      ]
     },
     "execution_count": 96,
     "metadata": {},
     "output_type": "execute_result"
    }
   ],
   "source": [
    "model = keras.models.Sequential([keras.layers.Dense(1, input_shape=[8])])\n",
    "model.compile(loss=\"mse\", optimizer=MySGDOptimizer(learning_rate=0.001))\n",
    "model.fit(X_train_scaled, y_train, epochs=20)"
   ]
  },
  {
   "cell_type": "code",
   "execution_count": 102,
   "metadata": {},
   "outputs": [],
   "source": [
    "class SGOptimizer(keras.optimizers.Optimizer):\n",
    "    def __init__(self, learning_rate=0.01, name=\"SGOptimizer\", **kwargs):\n",
    "        \"\"\"Call super().__init__() and use _set_hyper() to store hyperparameters\"\"\"\n",
    "        super().__init__(name, **kwargs)\n",
    "        self._set_hyper(\"learning_rate\", kwargs.get(\"lr\", learning_rate)) # handle lr=learning_rate\n",
    "        self._is_first = True\n",
    "    \n",
    "    def _create_slots(self, var_list):\n",
    "        \"\"\"For each model variable, create the optimizer variable associated with it.\n",
    "        TensorFlow calls these optimizer variables \"slots\".\n",
    "        For momentum optimization, we need one momentum slot per model variable.\n",
    "        \"\"\"\n",
    "        for var in var_list:\n",
    "            self.add_slot(var, \"pv\") #previous variable i.e. weight or bias\n",
    "        for var in var_list:\n",
    "            self.add_slot(var, \"pg\") #previous gradient\n",
    "\n",
    "\n",
    "    @tf.function\n",
    "    def _resource_apply_dense(self, grad, var):\n",
    "        \"\"\"Update the slots and perform one optimization step for one model variable\n",
    "        \"\"\"\n",
    "        var_dtype = var.dtype.base_dtype\n",
    "        lr_t = self._decayed_lr(var_dtype) # handle learning rate decay\n",
    "        new_var_m = var - grad * lr_t\n",
    "        pv_var = self.get_slot(var, \"pv\")\n",
    "        pg_var = self.get_slot(var, \"pg\")\n",
    "        \n",
    "        if self._is_first:\n",
    "            self._is_first = False\n",
    "            new_var = new_var_m\n",
    "        else:\n",
    "            cond = grad*pg_var >= 0\n",
    "            print(cond)\n",
    "            avg_weights = (pv_var + var)/2.0\n",
    "            new_var = tf.where(cond, new_var_m, avg_weights)\n",
    "        pv_var.assign(var)\n",
    "        pg_var.assign(grad)\n",
    "        var.assign(new_var)\n",
    "\n",
    "    def _resource_apply_sparse(self, grad, var):\n",
    "        raise NotImplementedError\n",
    "\n",
    "    def get_config(self):\n",
    "        base_config = super().get_config()\n",
    "        return {\n",
    "            **base_config,\n",
    "            \"learning_rate\": self._serialize_hyperparameter(\"learning_rate\"),\n",
    "        }"
   ]
  },
  {
   "cell_type": "code",
   "execution_count": 103,
   "metadata": {},
   "outputs": [],
   "source": [
    "keras.backend.clear_session()\n",
    "np.random.seed(42)\n",
    "tf.random.set_seed(42)"
   ]
  },
  {
   "cell_type": "code",
   "execution_count": 104,
   "metadata": {},
   "outputs": [
    {
     "name": "stdout",
     "output_type": "stream",
     "text": [
      "Train on 11610 samples\n",
      "Epoch 1/50\n",
      "Tensor(\"GreaterEqual:0\", shape=(1,), dtype=bool)\n",
      "11610/11610 [==============================] - 1s 95us/sample - loss: 3.7333\n",
      "Epoch 2/50\n",
      "11610/11610 [==============================] - 1s 47us/sample - loss: 1.4848\n",
      "Epoch 3/50\n",
      "11610/11610 [==============================] - 1s 48us/sample - loss: 0.9218\n",
      "Epoch 4/50\n",
      "11610/11610 [==============================] - 1s 46us/sample - loss: 0.7634\n",
      "Epoch 5/50\n",
      "11610/11610 [==============================] - 1s 46us/sample - loss: 0.7067\n",
      "Epoch 6/50\n",
      "11610/11610 [==============================] - 1s 45us/sample - loss: 0.6801\n",
      "Epoch 7/50\n",
      "11610/11610 [==============================] - 1s 45us/sample - loss: 0.6624\n",
      "Epoch 8/50\n",
      "11610/11610 [==============================] - 1s 47us/sample - loss: 0.6482\n",
      "Epoch 9/50\n",
      "11610/11610 [==============================] - 1s 46us/sample - loss: 0.6354\n",
      "Epoch 10/50\n",
      "11610/11610 [==============================] - 1s 47us/sample - loss: 0.6252\n",
      "Epoch 11/50\n",
      "11610/11610 [==============================] - 1s 46us/sample - loss: 0.6166\n",
      "Epoch 12/50\n",
      "11610/11610 [==============================] - 1s 47us/sample - loss: 0.6077\n",
      "Epoch 13/50\n",
      "11610/11610 [==============================] - 1s 47us/sample - loss: 0.5999\n",
      "Epoch 14/50\n",
      "11610/11610 [==============================] - 1s 46us/sample - loss: 0.5934\n",
      "Epoch 15/50\n",
      "11610/11610 [==============================] - 1s 46us/sample - loss: 0.5872\n",
      "Epoch 16/50\n",
      "11610/11610 [==============================] - 1s 47us/sample - loss: 0.5826\n",
      "Epoch 17/50\n",
      "11610/11610 [==============================] - 1s 46us/sample - loss: 0.5766\n",
      "Epoch 18/50\n",
      "11610/11610 [==============================] - 1s 49us/sample - loss: 0.5725\n",
      "Epoch 19/50\n",
      "11610/11610 [==============================] - 1s 47us/sample - loss: 0.5687\n",
      "Epoch 20/50\n",
      "11610/11610 [==============================] - 1s 46us/sample - loss: 0.5633\n",
      "Epoch 21/50\n",
      "11610/11610 [==============================] - 1s 46us/sample - loss: 0.5612\n",
      "Epoch 22/50\n",
      "11610/11610 [==============================] - 1s 49us/sample - loss: 0.5579\n",
      "Epoch 23/50\n",
      "11610/11610 [==============================] - 1s 48us/sample - loss: 0.5572\n",
      "Epoch 24/50\n",
      "11610/11610 [==============================] - 1s 48us/sample - loss: 0.5537\n",
      "Epoch 25/50\n",
      "11610/11610 [==============================] - 1s 49us/sample - loss: 0.5510\n",
      "Epoch 26/50\n",
      "11610/11610 [==============================] - 1s 46us/sample - loss: 0.5490\n",
      "Epoch 27/50\n",
      "11610/11610 [==============================] - 1s 46us/sample - loss: 0.5459\n",
      "Epoch 28/50\n",
      "11610/11610 [==============================] - 1s 47us/sample - loss: 0.5452\n",
      "Epoch 29/50\n",
      "11610/11610 [==============================] - 1s 46us/sample - loss: 0.5433\n",
      "Epoch 30/50\n",
      "11610/11610 [==============================] - 1s 44us/sample - loss: 0.5428\n",
      "Epoch 31/50\n",
      "11610/11610 [==============================] - 1s 46us/sample - loss: 0.5423\n",
      "Epoch 32/50\n",
      "11610/11610 [==============================] - 1s 46us/sample - loss: 0.5405\n",
      "Epoch 33/50\n",
      "11610/11610 [==============================] - 1s 46us/sample - loss: 0.5384\n",
      "Epoch 34/50\n",
      "11610/11610 [==============================] - 1s 46us/sample - loss: 0.5392\n",
      "Epoch 35/50\n",
      "11610/11610 [==============================] - 1s 51us/sample - loss: 0.5379\n",
      "Epoch 36/50\n",
      "11610/11610 [==============================] - 1s 45us/sample - loss: 0.5367\n",
      "Epoch 37/50\n",
      "11610/11610 [==============================] - 1s 45us/sample - loss: 0.5354\n",
      "Epoch 38/50\n",
      "11610/11610 [==============================] - 1s 45us/sample - loss: 0.5356\n",
      "Epoch 39/50\n",
      "11610/11610 [==============================] - 1s 46us/sample - loss: 0.5339\n",
      "Epoch 40/50\n",
      "11610/11610 [==============================] - 1s 46us/sample - loss: 0.5349\n",
      "Epoch 41/50\n",
      "11610/11610 [==============================] - 1s 46us/sample - loss: 0.5337\n",
      "Epoch 42/50\n",
      "11610/11610 [==============================] - 1s 46us/sample - loss: 0.5334\n",
      "Epoch 43/50\n",
      "11610/11610 [==============================] - 1s 46us/sample - loss: 0.5326\n",
      "Epoch 44/50\n",
      "11610/11610 [==============================] - 1s 45us/sample - loss: 0.5322\n",
      "Epoch 45/50\n",
      "11610/11610 [==============================] - 1s 45us/sample - loss: 0.5329\n",
      "Epoch 46/50\n",
      "11610/11610 [==============================] - 1s 45us/sample - loss: 0.5325\n",
      "Epoch 47/50\n",
      "11610/11610 [==============================] - 1s 45us/sample - loss: 0.5306\n",
      "Epoch 48/50\n",
      "11610/11610 [==============================] - 1s 45us/sample - loss: 0.5317\n",
      "Epoch 49/50\n",
      "11610/11610 [==============================] - 1s 47us/sample - loss: 0.5311\n",
      "Epoch 50/50\n",
      "11610/11610 [==============================] - 1s 46us/sample - loss: 0.5312\n"
     ]
    },
    {
     "data": {
      "text/plain": [
       "<tensorflow.python.keras.callbacks.History at 0x7fcaa46cf710>"
      ]
     },
     "execution_count": 104,
     "metadata": {},
     "output_type": "execute_result"
    }
   ],
   "source": [
    "model = keras.models.Sequential([keras.layers.Dense(1, input_shape=[8])])\n",
    "model.compile(loss=\"mse\", optimizer=SGOptimizer(learning_rate=0.001))\n",
    "model.fit(X_train_scaled, y_train, epochs=50)"
   ]
  },
  {
   "cell_type": "code",
   "execution_count": 58,
   "metadata": {},
   "outputs": [
    {
     "data": {
      "text/plain": [
       "<tf.Tensor: shape=(4,), dtype=bool, numpy=array([False,  True,  True,  True])>"
      ]
     },
     "execution_count": 58,
     "metadata": {},
     "output_type": "execute_result"
    }
   ],
   "source": [
    "a = tf.Variable([-1,2,2,0])\n",
    "b = tf.Variable([5,6,7,8])\n",
    "cond = a*b >= 0\n",
    "cond"
   ]
  },
  {
   "cell_type": "code",
   "execution_count": 59,
   "metadata": {},
   "outputs": [
    {
     "data": {
      "text/plain": [
       "<tf.Tensor: shape=(4,), dtype=int32, numpy=array([5, 2, 2, 0], dtype=int32)>"
      ]
     },
     "execution_count": 59,
     "metadata": {},
     "output_type": "execute_result"
    }
   ],
   "source": [
    "tf.where(cond, a, b)"
   ]
  },
  {
   "cell_type": "code",
   "execution_count": null,
   "metadata": {},
   "outputs": [],
   "source": []
  }
 ],
 "metadata": {
  "kernelspec": {
   "display_name": "tensorflow2",
   "language": "python",
   "name": "tensorflow2"
  },
  "language_info": {
   "codemirror_mode": {
    "name": "ipython",
    "version": 3
   },
   "file_extension": ".py",
   "mimetype": "text/x-python",
   "name": "python",
   "nbconvert_exporter": "python",
   "pygments_lexer": "ipython3",
   "version": "3.6.8"
  },
  "toc": {
   "base_numbering": 1,
   "nav_menu": {},
   "number_sections": true,
   "sideBar": true,
   "skip_h1_title": false,
   "title_cell": "Table of Contents",
   "title_sidebar": "Contents",
   "toc_cell": false,
   "toc_position": {},
   "toc_section_display": true,
   "toc_window_display": false
  }
 },
 "nbformat": 4,
 "nbformat_minor": 2
}
