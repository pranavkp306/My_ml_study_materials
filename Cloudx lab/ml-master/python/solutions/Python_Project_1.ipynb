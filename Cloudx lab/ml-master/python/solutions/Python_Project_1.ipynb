{
 "cells": [
  {
   "cell_type": "code",
   "execution_count": 1,
   "metadata": {},
   "outputs": [],
   "source": [
    "## Python Project 1\n",
    "import os, pathlib, re\n",
    "\n",
    "# Defining the function\n",
    "def getEmailCounts(path1='../got-your-back/GYB-GMail-Backup-pratik@cloudxlab.com/', field='To', pattern='([<].*@[^>]*)'):\n",
    "    emails_dict=dict()\n",
    "    # Looping through all the files present under the path directory\n",
    "    for path, subdirs, files in os.walk(path1):\n",
    "        for name in files:\n",
    "            # Skipping the sql lite file, all other files are email files\n",
    "            if(name.endswith('sqlite')):\n",
    "                continue\n",
    "            # Creating a handle on the file\n",
    "            hand=open(pathlib.PurePath(path, name))\n",
    "            index=0\n",
    "            for line in hand:\n",
    "                index+=1\n",
    "                email=''\n",
    "                # Applying the condition to find the details as requested in the project\n",
    "                if line.startswith(field+\":\"):\n",
    "                    email=re.findall(pattern,line)[0][1:]\n",
    "                    print(email)\n",
    "                    #emails_dict[email]=emails_dict.get(email,0)+1\n",
    "    #emails_dict=dict(sorted(emails_dict.items(), key=lambda x:x[1],reverse=True))\n",
    "\n",
    "# Calling the defined function\n",
    "getEmailCounts('../got-your-back/GYB-GMail-Backup-pratik@cloudxlab.com/', 'To', '([ <].*@[^>\\n ]*)')"
   ]
  },
  {
   "cell_type": "code",
   "execution_count": 2,
   "metadata": {},
   "outputs": [
    {
     "name": "stdout",
     "output_type": "stream",
     "text": [
      "Series([], Name: fromEmails, dtype: int64)\n",
      "Series([], Name: toEmails, dtype: int64)\n",
      "Series([], Name: fromEmails, dtype: int64)\n",
      "Series([], Name: fromEmails, dtype: int64)\n"
     ]
    },
    {
     "ename": "IndexError",
     "evalue": "index 0 is out of bounds for axis 0 with size 0",
     "output_type": "error",
     "traceback": [
      "\u001b[1;31m---------------------------------------------------------------------------\u001b[0m",
      "\u001b[1;31mIndexError\u001b[0m                                Traceback (most recent call last)",
      "\u001b[1;32m<ipython-input-2-4a4553ae223c>\u001b[0m in \u001b[0;36m<module>\u001b[1;34m()\u001b[0m\n\u001b[0;32m     74\u001b[0m \u001b[1;33m\u001b[0m\u001b[0m\n\u001b[0;32m     75\u001b[0m \u001b[1;31m# Calling the function to execute project 2\u001b[0m\u001b[1;33m\u001b[0m\u001b[1;33m\u001b[0m\u001b[0m\n\u001b[1;32m---> 76\u001b[1;33m \u001b[0mgetStats\u001b[0m\u001b[1;33m(\u001b[0m\u001b[1;34m'../got-your-back/GYB-GMail-Backup-pratik@cloudxlab.com/'\u001b[0m\u001b[1;33m,\u001b[0m\u001b[1;34m'pratik@cloudxlab.com'\u001b[0m\u001b[1;33m)\u001b[0m\u001b[1;33m\u001b[0m\u001b[0m\n\u001b[0m",
      "\u001b[1;32m<ipython-input-2-4a4553ae223c>\u001b[0m in \u001b[0;36mgetStats\u001b[1;34m(path1, emailidPersonal)\u001b[0m\n\u001b[0;32m     50\u001b[0m     \u001b[1;31m#print('--------------')\u001b[0m\u001b[1;33m\u001b[0m\u001b[1;33m\u001b[0m\u001b[0m\n\u001b[0;32m     51\u001b[0m     \u001b[1;31m# Printing the results\u001b[0m\u001b[1;33m\u001b[0m\u001b[1;33m\u001b[0m\u001b[0m\n\u001b[1;32m---> 52\u001b[1;33m     \u001b[0mprint\u001b[0m\u001b[1;33m(\u001b[0m\u001b[1;34m'Top hour slot at which emails were sent: '\u001b[0m\u001b[1;33m+\u001b[0m\u001b[0mtopTimes\u001b[0m\u001b[1;33m.\u001b[0m\u001b[0mindex\u001b[0m\u001b[1;33m[\u001b[0m\u001b[1;36m0\u001b[0m\u001b[1;33m]\u001b[0m\u001b[1;33m)\u001b[0m\u001b[1;33m\u001b[0m\u001b[0m\n\u001b[0m\u001b[0;32m     53\u001b[0m     \u001b[1;32mif\u001b[0m \u001b[0mlen\u001b[0m\u001b[1;33m(\u001b[0m\u001b[0mtopFrom\u001b[0m\u001b[1;33m)\u001b[0m\u001b[1;33m>\u001b[0m\u001b[1;36m1\u001b[0m \u001b[1;32mand\u001b[0m \u001b[0mtopFrom\u001b[0m\u001b[1;33m.\u001b[0m\u001b[0mindex\u001b[0m\u001b[1;33m[\u001b[0m\u001b[1;36m0\u001b[0m\u001b[1;33m]\u001b[0m \u001b[1;33m==\u001b[0m \u001b[1;33m(\u001b[0m\u001b[0memailidPersonal\u001b[0m\u001b[1;33m)\u001b[0m \u001b[1;33m:\u001b[0m\u001b[1;33m\u001b[0m\u001b[0m\n\u001b[0;32m     54\u001b[0m         \u001b[0mprint\u001b[0m\u001b[1;33m(\u001b[0m\u001b[1;34m'Top sender of emails: '\u001b[0m\u001b[1;33m+\u001b[0m\u001b[0mtopFrom\u001b[0m\u001b[1;33m.\u001b[0m\u001b[0mindex\u001b[0m\u001b[1;33m[\u001b[0m\u001b[1;36m1\u001b[0m\u001b[1;33m]\u001b[0m\u001b[1;33m)\u001b[0m\u001b[1;33m\u001b[0m\u001b[0m\n",
      "\u001b[1;32m~\\Anaconda3\\lib\\site-packages\\pandas\\core\\indexes\\base.py\u001b[0m in \u001b[0;36m__getitem__\u001b[1;34m(self, key)\u001b[0m\n\u001b[0;32m   1687\u001b[0m \u001b[1;33m\u001b[0m\u001b[0m\n\u001b[0;32m   1688\u001b[0m         \u001b[1;32mif\u001b[0m \u001b[0mis_scalar\u001b[0m\u001b[1;33m(\u001b[0m\u001b[0mkey\u001b[0m\u001b[1;33m)\u001b[0m\u001b[1;33m:\u001b[0m\u001b[1;33m\u001b[0m\u001b[0m\n\u001b[1;32m-> 1689\u001b[1;33m             \u001b[1;32mreturn\u001b[0m \u001b[0mgetitem\u001b[0m\u001b[1;33m(\u001b[0m\u001b[0mkey\u001b[0m\u001b[1;33m)\u001b[0m\u001b[1;33m\u001b[0m\u001b[0m\n\u001b[0m\u001b[0;32m   1690\u001b[0m \u001b[1;33m\u001b[0m\u001b[0m\n\u001b[0;32m   1691\u001b[0m         \u001b[1;32mif\u001b[0m \u001b[0misinstance\u001b[0m\u001b[1;33m(\u001b[0m\u001b[0mkey\u001b[0m\u001b[1;33m,\u001b[0m \u001b[0mslice\u001b[0m\u001b[1;33m)\u001b[0m\u001b[1;33m:\u001b[0m\u001b[1;33m\u001b[0m\u001b[0m\n",
      "\u001b[1;31mIndexError\u001b[0m: index 0 is out of bounds for axis 0 with size 0"
     ]
    }
   ],
   "source": [
    "## Python Project 2\n",
    "import os, pathlib, re\n",
    "import pandas as pd\n",
    "# Creating the function to get the maximum time slot, the maximum recepient, the maximum sender and best friend\n",
    "def getStats(path1='../got-your-back/GYB-GMail-Backup-pratik@cloudxlab.com/',emailidPersonal='pratik@cloudxlab.com'):\n",
    "    data = pd.DataFrame(columns=['fromEmails', 'toEmails', 'dates','hrs','emails'])\n",
    "    # Looping through all the files present under the path directory\n",
    "    for path, subdirs, files in os.walk(path1):\n",
    "        index=0\n",
    "        for name in files:\n",
    "            # Skipping the sql lite file, all other files are email files\n",
    "            if(name.endswith('sqlite')):\n",
    "                continue\n",
    "            hand=open(pathlib.PurePath(path, name))\n",
    "            FromEmail=''\n",
    "            ToEmail=''\n",
    "            dateExt=''\n",
    "            pattern1 = '([<].*@[^>\\n ]*)' # pattern to regex the email when name also present\n",
    "            pattern2 = '([ ].*@[^>\\n ]*)' # pattern to regex the email when name not present\n",
    "            # Looping through the lines and extracting the email ids, the time and the hour slot\n",
    "            for line in hand:\n",
    "                if line.startswith(\"To:\"):\n",
    "                    if (len(re.findall('[<]',line)))>0:\n",
    "                        ToEmail=re.findall(pattern1,line)[0][1:]\n",
    "                    else:\n",
    "                        ToEmail=re.findall(pattern2,line)[0][1:]\n",
    "                elif line.startswith(\"From:\"):\n",
    "                    if (len(re.findall('[<]',line))):\n",
    "                        FromEmail=re.findall(pattern1,line)[0][1:]\n",
    "                    else:\n",
    "                        FromEmail=re.findall(pattern2,line)[0][1:]\n",
    "                elif line.startswith(\"Date:\"):\n",
    "                    dateExt=re.findall(\"[ ].*[ \\n]\",line)[0].strip()\n",
    "                    hourSlot=dateExt.split(\" \")[4].split(\":\")[0]\n",
    "            # Appending to the data frame\n",
    "            index+=1\n",
    "            data.loc[index] = [FromEmail, ToEmail, dateExt, hourSlot, FromEmail]\n",
    "            index+=1\n",
    "            data.loc[index] = [FromEmail, ToEmail, dateExt, hourSlot, ToEmail]\n",
    "    #print(data)\n",
    "    # Sorting to get the maximums on the top\n",
    "    topTimes=data[(data[\"fromEmails\"] != emailidPersonal)].groupby(['hrs']).agg('count')['fromEmails'].sort_values(ascending =False)\n",
    "    topFrom=data.groupby(['fromEmails']).agg('count')['toEmails'].sort_values(ascending =False)\n",
    "    topTo=data.groupby(['toEmails']).agg('count')['fromEmails'].sort_values(ascending =False)\n",
    "    topConvo=data.groupby(['emails']).agg('count')['fromEmails'].sort_values(ascending =False)\n",
    "    print(topTimes[0:5])\n",
    "    print(topFrom[0:5])\n",
    "    print(topTo[0:5])\n",
    "    print(topConvo[0:5])\n",
    "    #print('--------------')\n",
    "    # Printing the results\n",
    "    print('Top hour slot at which emails were sent: '+topTimes.index[0])\n",
    "    if len(topFrom)>1 and topFrom.index[0] == (emailidPersonal) :\n",
    "        print('Top sender of emails: '+topFrom.index[1])\n",
    "    elif len(topFrom)>0:\n",
    "        print('Top sender of emails: '+topFrom.index[0])\n",
    "    else:\n",
    "        print('No emails were received by the user')\n",
    "        \n",
    "    if len(topTo)>1 and topTo.index[0] == (emailidPersonal) :\n",
    "        print('Top recepient of emails: '+topTo.index[1])\n",
    "    elif len(topTo)>0:\n",
    "        print('Top recepient of emails: '+topTo.index[0])\n",
    "    else:\n",
    "        print('No emails sent')\n",
    "        \n",
    "        \n",
    "    if len(topConvo)>1 and topConvo.index[0] == (emailidPersonal):\n",
    "        print('Top friend: '+topConvo.index[1])\n",
    "    elif len(topConvo)>0:\n",
    "        print('Top friend: '+topConvo.index[0])\n",
    "    else:\n",
    "        print('No top friend')\n",
    "    \n",
    "# Calling the function to execute project 2\n",
    "getStats('../got-your-back/GYB-GMail-Backup-pratik@cloudxlab.com/','pratik@cloudxlab.com')"
   ]
  },
  {
   "cell_type": "code",
   "execution_count": null,
   "metadata": {
    "collapsed": true
   },
   "outputs": [],
   "source": [
    "# Preparation of the email backup\n",
    "!git clone https://github.com/jay0lee/got-your-back.git\n",
    "!cd got-your-back\n",
    "!touch nobrowser.txt\n",
    "!python3 gyb.py --email pratik@cloudxlab.com --action backup\n"
   ]
  }
 ],
 "metadata": {
  "kernelspec": {
   "display_name": "Python 3",
   "language": "python",
   "name": "python3"
  },
  "language_info": {
   "codemirror_mode": {
    "name": "ipython",
    "version": 3
   },
   "file_extension": ".py",
   "mimetype": "text/x-python",
   "name": "python",
   "nbconvert_exporter": "python",
   "pygments_lexer": "ipython3",
   "version": "3.6.3"
  }
 },
 "nbformat": 4,
 "nbformat_minor": 2
}
